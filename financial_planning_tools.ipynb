{
 "cells": [
  {
   "cell_type": "markdown",
   "metadata": {},
   "source": [
    "# Financial Planning with APIs and Simulations\n",
    "\n",
    "In this Challenge, you’ll create two financial analysis tools by using a single Jupyter notebook:\n",
    "\n",
    "Part 1: A financial planner for emergencies. The members will be able to use this tool to visualize their current savings. The members can then determine if they have enough reserves for an emergency fund.\n",
    "\n",
    "Part 2: A financial planner for retirement. This tool will forecast the performance of their retirement portfolio in 30 years. To do this, the tool will make an Alpaca API call via the Alpaca SDK to get historical price data for use in Monte Carlo simulations.\n",
    "\n",
    "You’ll use the information from the Monte Carlo simulation to answer questions about the portfolio in your Jupyter notebook.\n",
    "\n"
   ]
  },
  {
   "cell_type": "code",
   "execution_count": 1,
   "metadata": {},
   "outputs": [],
   "source": [
    "# Import the required libraries and dependencies\n",
    "import os\n",
    "import requests\n",
    "import json\n",
    "import pandas as pd\n",
    "from dotenv import load_dotenv\n",
    "import alpaca_trade_api as tradeapi\n",
    "from MCForecastTools import MCSimulation\n",
    "\n",
    "%matplotlib inline"
   ]
  },
  {
   "cell_type": "code",
   "execution_count": 2,
   "metadata": {},
   "outputs": [
    {
     "data": {
      "text/plain": "True"
     },
     "execution_count": 2,
     "metadata": {},
     "output_type": "execute_result"
    }
   ],
   "source": [
    "# Load the environment variables from the .env file\n",
    "#by calling the load_dotenv function\n",
    "load_dotenv()"
   ]
  },
  {
   "cell_type": "markdown",
   "metadata": {},
   "source": [
    "## Part 1: Create a Financial Planner for Emergencies"
   ]
  },
  {
   "cell_type": "markdown",
   "metadata": {},
   "source": [
    "### Evaluate the Cryptocurrency Wallet by Using the Requests Library\n",
    "\n",
    "In this section, you’ll determine the current value of a member’s cryptocurrency wallet. You’ll collect the current prices for the Bitcoin and Ethereum cryptocurrencies by using the Python Requests library. For the prototype, you’ll assume that the member holds the 1.2 Bitcoins (BTC) and 5.3 Ethereum coins (ETH). To do all this, complete the following steps:\n",
    "\n",
    "1. Create a variable named `monthly_income`, and set its value to `12000`.\n",
    "\n",
    "2. Use the Requests library to get the current price (in US dollars) of Bitcoin (BTC) and Ethereum (ETH) by using the API endpoints that the starter code supplies.\n",
    "\n",
    "3. Navigate the JSON response object to access the current price of each coin, and store each in a variable.\n",
    "\n",
    "    > **Hint** Note the specific identifier for each cryptocurrency in the API JSON response. The Bitcoin identifier is `1`, and the Ethereum identifier is `1027`.\n",
    "\n",
    "4. Calculate the value, in US dollars, of the current amount of each cryptocurrency and of the entire cryptocurrency wallet.\n",
    "\n"
   ]
  },
  {
   "cell_type": "code",
   "execution_count": 3,
   "metadata": {},
   "outputs": [],
   "source": [
    "# The current number of coins for each cryptocurrency asset held in the portfolio.\n",
    "btc_coins = 1.2\n",
    "eth_coins = 5.3"
   ]
  },
  {
   "cell_type": "markdown",
   "metadata": {},
   "source": [
    "#### Step 1: Create a variable named `monthly_income`, and set its value to `12000`."
   ]
  },
  {
   "cell_type": "code",
   "execution_count": 4,
   "metadata": {},
   "outputs": [],
   "source": [
    "# The monthly amount for the member's household income\n",
    "monthly_income = 12000\n"
   ]
  },
  {
   "cell_type": "markdown",
   "metadata": {},
   "source": [
    "#### Review the endpoint URLs for the API calls to Free Crypto API in order to get the current pricing information for both BTC and ETH."
   ]
  },
  {
   "cell_type": "code",
   "execution_count": 5,
   "metadata": {},
   "outputs": [],
   "source": [
    "# The Free Crypto API Call endpoint URLs for the held cryptocurrency assets\n",
    "btc_url = \"https://api.alternative.me/v2/ticker/Bitcoin/?convert=USD\"\n",
    "eth_url = \"https://api.alternative.me/v2/ticker/Ethereum/?convert=USD\""
   ]
  },
  {
   "cell_type": "markdown",
   "metadata": {},
   "source": [
    "#### Step 2. Use the Requests library to get the current price (in US dollars) of Bitcoin (BTC) and Ethereum (ETH) by using the API endpoints that the starter code supplied."
   ]
  },
  {
   "cell_type": "code",
   "execution_count": 6,
   "metadata": {},
   "outputs": [
    {
     "name": "stdout",
     "output_type": "stream",
     "text": [
      "{\n",
      "    \"data\": {\n",
      "        \"1\": {\n",
      "            \"circulating_supply\": 18767400,\n",
      "            \"id\": 1,\n",
      "            \"last_updated\": 1627319337,\n",
      "            \"max_supply\": 21000000,\n",
      "            \"name\": \"Bitcoin\",\n",
      "            \"quotes\": {\n",
      "                \"USD\": {\n",
      "                    \"market_cap\": 735071750430,\n",
      "                    \"percent_change_1h\": 0.462861393513138,\n",
      "                    \"percent_change_24h\": 13.2416119013452,\n",
      "                    \"percent_change_7d\": 21.5316409963011,\n",
      "                    \"percentage_change_1h\": 0.462861393513138,\n",
      "                    \"percentage_change_24h\": 13.2416119013452,\n",
      "                    \"percentage_change_7d\": 21.5316409963011,\n",
      "                    \"price\": 38792.0,\n",
      "                    \"volume_24h\": 43486599523\n",
      "                }\n",
      "            },\n",
      "            \"rank\": 1,\n",
      "            \"symbol\": \"BTC\",\n",
      "            \"total_supply\": 18767400,\n",
      "            \"website_slug\": \"bitcoin\"\n",
      "        }\n",
      "    },\n",
      "    \"metadata\": {\n",
      "        \"error\": null,\n",
      "        \"num_cryptocurrencies\": 3105,\n",
      "        \"timestamp\": 1627319337\n",
      "    }\n",
      "}\n"
     ]
    }
   ],
   "source": [
    "# Using the Python requests library, make an API call to access the current price of BTC\n",
    "btc_response = requests.get(btc_url).json()\n",
    "\n",
    "# Use the json.dumps function to review the response data from the API call\n",
    "# Use the indent and sort_keys parameters to make the response object readable\n",
    "print(json.dumps(btc_response, indent=4, sort_keys=True))\n"
   ]
  },
  {
   "cell_type": "code",
   "execution_count": 7,
   "metadata": {},
   "outputs": [
    {
     "name": "stdout",
     "output_type": "stream",
     "text": [
      "{\n",
      "    \"data\": {\n",
      "        \"1027\": {\n",
      "            \"circulating_supply\": 116851165,\n",
      "            \"id\": 1027,\n",
      "            \"last_updated\": 1627319344,\n",
      "            \"max_supply\": 0,\n",
      "            \"name\": \"Ethereum\",\n",
      "            \"quotes\": {\n",
      "                \"USD\": {\n",
      "                    \"market_cap\": 276798877636,\n",
      "                    \"percent_change_1h\": 0.0176112468024044,\n",
      "                    \"percent_change_24h\": 10.0405276754128,\n",
      "                    \"percent_change_7d\": 23.0840680366771,\n",
      "                    \"percentage_change_1h\": 0.0176112468024044,\n",
      "                    \"percentage_change_24h\": 10.0405276754128,\n",
      "                    \"percentage_change_7d\": 23.0840680366771,\n",
      "                    \"price\": 2345.64,\n",
      "                    \"volume_24h\": 28940699592\n",
      "                }\n",
      "            },\n",
      "            \"rank\": 2,\n",
      "            \"symbol\": \"ETH\",\n",
      "            \"total_supply\": 116851165,\n",
      "            \"website_slug\": \"ethereum\"\n",
      "        }\n",
      "    },\n",
      "    \"metadata\": {\n",
      "        \"error\": null,\n",
      "        \"num_cryptocurrencies\": 3105,\n",
      "        \"timestamp\": 1627319344\n",
      "    }\n",
      "}\n"
     ]
    }
   ],
   "source": [
    "# Using the Python requests library, make an API call to access the current price ETH\n",
    "eth_response = requests.get(eth_url).json()\n",
    "\n",
    "# Use the json.dumps function to review the response data from the API call\n",
    "# Use the indent and sort_keys parameters to make the response object readable\n",
    "print(json.dumps(eth_response, indent=4, sort_keys=True))\n"
   ]
  },
  {
   "cell_type": "markdown",
   "metadata": {},
   "source": [
    "#### Step 3: Navigate the JSON response object to access the current price of each coin, and store each in a variable."
   ]
  },
  {
   "cell_type": "code",
   "execution_count": 8,
   "metadata": {},
   "outputs": [
    {
     "name": "stdout",
     "output_type": "stream",
     "text": [
      "38792.0\n"
     ]
    }
   ],
   "source": [
    "# Navigate the BTC response object to access the current price of BTC\n",
    "btc_price = btc_response['data']['1']['quotes']['USD']['price']\n",
    "\n",
    "# Print the current price of BTC\n",
    "print(btc_price)\n"
   ]
  },
  {
   "cell_type": "code",
   "execution_count": 9,
   "metadata": {},
   "outputs": [
    {
     "name": "stdout",
     "output_type": "stream",
     "text": [
      "2345.64\n"
     ]
    }
   ],
   "source": [
    "# Navigate the BTC response object to access the current price of ETH\n",
    "eth_price = eth_response['data']['1027']['quotes']['USD']['price']\n",
    "\n",
    "# Print the current price of ETH\n",
    "print(eth_price)\n"
   ]
  },
  {
   "cell_type": "markdown",
   "metadata": {},
   "source": [
    "### Step 4: Calculate the value, in US dollars, of the current amount of each cryptocurrency and of the entire cryptocurrency wallet."
   ]
  },
  {
   "cell_type": "code",
   "execution_count": 10,
   "metadata": {},
   "outputs": [
    {
     "name": "stdout",
     "output_type": "stream",
     "text": [
      "46550.4\n"
     ]
    }
   ],
   "source": [
    "# Compute the current value of the BTC holding \n",
    "btc_value = btc_price * btc_coins\n",
    "\n",
    "# Print current value of your holding in BTC\n",
    "print(btc_value)\n"
   ]
  },
  {
   "cell_type": "code",
   "execution_count": 11,
   "metadata": {},
   "outputs": [
    {
     "name": "stdout",
     "output_type": "stream",
     "text": [
      "12431.891999999998\n"
     ]
    }
   ],
   "source": [
    "# Compute the current value of the ETH holding \n",
    "eth_value = eth_price * eth_coins\n",
    "\n",
    "# Print current value of your holding in ETH\n",
    "print(eth_value)\n"
   ]
  },
  {
   "cell_type": "code",
   "execution_count": 12,
   "metadata": {},
   "outputs": [
    {
     "name": "stdout",
     "output_type": "stream",
     "text": [
      "58982.292\n"
     ]
    }
   ],
   "source": [
    "# Compute the total value of the cryptocurrency wallet\n",
    "# Add the value of the BTC holding to the value of the ETH holding\n",
    "total_crypto_wallet = eth_value + btc_value\n",
    "\n",
    "# Print current cryptocurrency wallet balance\n",
    "print(total_crypto_wallet)\n"
   ]
  },
  {
   "cell_type": "markdown",
   "metadata": {},
   "source": [
    "### Evaluate the Stock and Bond Holdings by Using the Alpaca SDK\n",
    "\n",
    "In this section, you’ll determine the current value of a member’s stock and bond holdings. You’ll make an API call to Alpaca via the Alpaca SDK to get the current closing prices of the SPDR S&P 500 ETF Trust (ticker: SPY) and of the iShares Core US Aggregate Bond ETF (ticker: AGG). For the prototype, assume that the member holds 110 shares of SPY, which represents the stock portion of their portfolio, and 200 shares of AGG, which represents the bond portion. To do all this, complete the following steps:\n",
    "\n",
    "1. In the `Starter_Code` folder, create an environment file (`.env`) to store the values of your Alpaca API key and Alpaca secret key.\n",
    "\n",
    "2. Set the variables for the Alpaca API and secret keys. Using the Alpaca SDK, create the Alpaca `tradeapi.REST` object. In this object, include the parameters for the Alpaca API key, the secret key, and the version number.\n",
    "\n",
    "3. Set the following parameters for the Alpaca API call:\n",
    "\n",
    "    - `tickers`: Use the tickers for the member’s stock and bond holdings.\n",
    "\n",
    "    - `timeframe`: Use a time frame of one day.\n",
    "\n",
    "    - `start_date` and `end_date`: Use the same date for these parameters, and format them with the date of the previous weekday (or `2020-08-07`). This is because you want the one closing price for the most-recent trading day.\n",
    "\n",
    "4. Get the current closing prices for `SPY` and `AGG` by using the Alpaca `get_barset` function. Format the response as a Pandas DataFrame by including the `df` property at the end of the `get_barset` function.\n",
    "\n",
    "5. Navigating the Alpaca response DataFrame, select the `SPY` and `AGG` closing prices, and store them as variables.\n",
    "\n",
    "6. Calculate the value, in US dollars, of the current amount of shares in each of the stock and bond portions of the portfolio, and print the results.\n"
   ]
  },
  {
   "cell_type": "markdown",
   "metadata": {},
   "source": [
    "#### Review the total number of shares held in both (SPY) and (AGG)."
   ]
  },
  {
   "cell_type": "code",
   "execution_count": 13,
   "metadata": {},
   "outputs": [],
   "source": [
    "# Current amount of shares held in both the stock (SPY) and bond (AGG) portion of the portfolio.\n",
    "spy_shares = 110\n",
    "agg_shares = 200\n"
   ]
  },
  {
   "cell_type": "markdown",
   "metadata": {},
   "source": [
    "#### Step 1: In the `Starter_Code` folder, create an environment file (`.env`) to store the values of your Alpaca API key and Alpaca secret key."
   ]
  },
  {
   "cell_type": "markdown",
   "metadata": {},
   "source": [
    "#### Step 2: Set the variables for the Alpaca API and secret keys. Using the Alpaca SDK, create the Alpaca `tradeapi.REST` object. In this object, include the parameters for the Alpaca API key, the secret key, and the version number."
   ]
  },
  {
   "cell_type": "code",
   "execution_count": 14,
   "metadata": {},
   "outputs": [],
   "source": [
    "# Set the variables for the Alpaca API and secret keys\n",
    "alpaca_api_key = os.getenv(\"ALPACA_API_KEY\")\n",
    "alpaca_secret_key = os.getenv(\"ALPACA_SECRET_KEY\")\n",
    "# YOUR CODE HERE\n",
    "\n",
    "# Create the Alpaca tradeapi.REST object\n",
    "alpaca = tradeapi.REST(\n",
    "    alpaca_api_key,\n",
    "    alpaca_secret_key,\n",
    "    api_version=\"v2\"\n",
    ")\n"
   ]
  },
  {
   "cell_type": "markdown",
   "metadata": {},
   "source": [
    "#### Step 3: Set the following parameters for the Alpaca API call:\n",
    "\n",
    "- `tickers`: Use the tickers for the member’s stock and bond holdings.\n",
    "\n",
    "- `timeframe`: Use a time frame of one day.\n",
    "\n",
    "- `start_date` and `end_date`: Use the same date for these parameters, and format them with the date of the previous weekday (or `2020-08-07`). This is because you want the one closing price for the most-recent trading day.\n"
   ]
  },
  {
   "cell_type": "code",
   "execution_count": 15,
   "metadata": {},
   "outputs": [],
   "source": [
    "# Set the tickers for both the bond and stock portion of the portfolio\n",
    "tickers = ['SPY', 'AGG']\n",
    "\n",
    "# Set timeframe to 1D \n",
    "timeframe = \"1D\"\n",
    "\n",
    "# Format current date as ISO format\n",
    "# Set both the start and end date at the date of your prior weekday \n",
    "# This will give you the closing price of the previous trading day\n",
    "# Alternatively you can use a start and end date of 2020-08-07\n",
    "start_date = pd.Timestamp(\"2020-08-07\", tz=\"America/New_York\").isoformat()\n",
    "end_date = pd.Timestamp(\"2020-08-07\", tz=\"America/New_York\").isoformat()\n"
   ]
  },
  {
   "cell_type": "markdown",
   "metadata": {},
   "source": [
    "#### Step 4: Get the current closing prices for `SPY` and `AGG` by using the Alpaca `get_barset` function. Format the response as a Pandas DataFrame by including the `df` property at the end of the `get_barset` function."
   ]
  },
  {
   "cell_type": "code",
   "execution_count": 16,
   "metadata": {},
   "outputs": [
    {
     "data": {
      "text/html": "<div>\n<style scoped>\n    .dataframe tbody tr th:only-of-type {\n        vertical-align: middle;\n    }\n\n    .dataframe tbody tr th {\n        vertical-align: top;\n    }\n\n    .dataframe thead tr th {\n        text-align: left;\n    }\n\n    .dataframe thead tr:last-of-type th {\n        text-align: right;\n    }\n</style>\n<table border=\"1\" class=\"dataframe\">\n  <thead>\n    <tr>\n      <th></th>\n      <th colspan=\"5\" halign=\"left\">AGG</th>\n      <th colspan=\"5\" halign=\"left\">SPY</th>\n    </tr>\n    <tr>\n      <th></th>\n      <th>open</th>\n      <th>high</th>\n      <th>low</th>\n      <th>close</th>\n      <th>volume</th>\n      <th>open</th>\n      <th>high</th>\n      <th>low</th>\n      <th>close</th>\n      <th>volume</th>\n    </tr>\n    <tr>\n      <th>time</th>\n      <th></th>\n      <th></th>\n      <th></th>\n      <th></th>\n      <th></th>\n      <th></th>\n      <th></th>\n      <th></th>\n      <th></th>\n      <th></th>\n    </tr>\n  </thead>\n  <tbody>\n    <tr>\n      <th>2020-08-07 00:00:00-04:00</th>\n      <td>119.66</td>\n      <td>119.73</td>\n      <td>119.395</td>\n      <td>119.445</td>\n      <td>8830420</td>\n      <td>333.28</td>\n      <td>334.88</td>\n      <td>332.3</td>\n      <td>334.55</td>\n      <td>98710236</td>\n    </tr>\n  </tbody>\n</table>\n</div>",
      "text/plain": "                              AGG                                        SPY  \\\n                             open    high      low    close   volume    open   \ntime                                                                           \n2020-08-07 00:00:00-04:00  119.66  119.73  119.395  119.445  8830420  333.28   \n\n                                                            \n                             high    low   close    volume  \ntime                                                        \n2020-08-07 00:00:00-04:00  334.88  332.3  334.55  98710236  "
     },
     "execution_count": 16,
     "metadata": {},
     "output_type": "execute_result"
    }
   ],
   "source": [
    "# Use the Alpaca get_barset function to get current closing prices the portfolio\n",
    "# Be sure to set the `df` property after the function to format the response object as a DataFrame\n",
    "portfolio = alpaca.get_barset(\n",
    "    tickers,\n",
    "    timeframe,\n",
    "    start=start_date,\n",
    "    end=end_date\n",
    ").df\n",
    "\n",
    "# Review the first 5 rows of the Alpaca DataFrame\n",
    "portfolio.head()\n"
   ]
  },
  {
   "cell_type": "markdown",
   "metadata": {},
   "source": [
    "#### Step 5: Navigating the Alpaca response DataFrame, select the `SPY` and `AGG` closing prices, and store them as variables."
   ]
  },
  {
   "cell_type": "code",
   "execution_count": 17,
   "metadata": {},
   "outputs": [
    {
     "data": {
      "text/plain": "119.445"
     },
     "execution_count": 17,
     "metadata": {},
     "output_type": "execute_result"
    }
   ],
   "source": [
    "# Access the closing price for AGG from the Alpaca DataFrame\n",
    "# Converting the value to a floating point number\n",
    "agg_close_price = float(portfolio['AGG']['close'])\n",
    "\n",
    "# Print the AGG closing price\n",
    "agg_close_price\n"
   ]
  },
  {
   "cell_type": "code",
   "execution_count": 18,
   "metadata": {},
   "outputs": [
    {
     "data": {
      "text/plain": "334.55"
     },
     "execution_count": 18,
     "metadata": {},
     "output_type": "execute_result"
    }
   ],
   "source": [
    "# Access the closing price for SPY from the Alpaca DataFrame\n",
    "# Converting the value to a floating point number\n",
    "spy_close_price = float(portfolio['SPY']['close'])\n",
    "\n",
    "# Print the SPY closing price\n",
    "spy_close_price\n"
   ]
  },
  {
   "cell_type": "markdown",
   "metadata": {},
   "source": [
    "#### Step 6: Calculate the value, in US dollars, of the current amount of shares in each of the stock and bond portions of the portfolio, and print the results."
   ]
  },
  {
   "cell_type": "code",
   "execution_count": 19,
   "metadata": {},
   "outputs": [
    {
     "data": {
      "text/plain": "23889.0"
     },
     "execution_count": 19,
     "metadata": {},
     "output_type": "execute_result"
    }
   ],
   "source": [
    "# Calculate the current value of the bond portion of the portfolio\n",
    "agg_value = agg_shares * agg_close_price\n",
    "\n",
    "# Print the current value of the bond portfolio\n",
    "agg_value\n"
   ]
  },
  {
   "cell_type": "code",
   "execution_count": 20,
   "metadata": {},
   "outputs": [
    {
     "data": {
      "text/plain": "36800.5"
     },
     "execution_count": 20,
     "metadata": {},
     "output_type": "execute_result"
    }
   ],
   "source": [
    "# Calculate the current value of the stock portion of the portfolio\n",
    "spy_value = spy_shares * spy_close_price\n",
    "\n",
    "# Print the current value of the stock portfolio\n",
    "spy_value\n"
   ]
  },
  {
   "cell_type": "code",
   "execution_count": 21,
   "metadata": {},
   "outputs": [
    {
     "data": {
      "text/plain": "60689.5"
     },
     "execution_count": 21,
     "metadata": {},
     "output_type": "execute_result"
    }
   ],
   "source": [
    "# Calculate the total value of the stock and bond portion of the portfolio\n",
    "total_stocks_bonds = agg_value + spy_value\n",
    "\n",
    "# Print the current balance of the stock and bond portion of the portfolio\n",
    "total_stocks_bonds\n"
   ]
  },
  {
   "cell_type": "code",
   "execution_count": 22,
   "metadata": {},
   "outputs": [
    {
     "data": {
      "text/plain": "119671.792"
     },
     "execution_count": 22,
     "metadata": {},
     "output_type": "execute_result"
    }
   ],
   "source": [
    "# Calculate the total value of the member's entire savings portfolio\n",
    "# Add the value of the cryptocurrency walled to the value of the total stocks and bonds\n",
    "total_portfolio = total_crypto_wallet + total_stocks_bonds\n",
    "\n",
    "# Print current cryptocurrency wallet balance\n",
    "total_portfolio\n"
   ]
  },
  {
   "cell_type": "markdown",
   "metadata": {},
   "source": [
    "### Evaluate the Emergency Fund\n",
    "\n",
    "In this section, you’ll use the valuations for the cryptocurrency wallet and for the stock and bond portions of the portfolio to determine if the credit union member has enough savings to build an emergency fund into their financial plan. To do this, complete the following steps:\n",
    "\n",
    "1. Create a Python list named `savings_data` that has two elements. The first element contains the total value of the cryptocurrency wallet. The second element contains the total value of the stock and bond portions of the portfolio.\n",
    "\n",
    "2. Use the `savings_data` list to create a Pandas DataFrame named `savings_df`, and then display this DataFrame. The function to create the DataFrame should take the following three parameters:\n",
    "\n",
    "    - `savings_data`: Use the list that you just created.\n",
    "\n",
    "    - `columns`: Set this parameter equal to a Python list with a single value called `amount`.\n",
    "\n",
    "    - `index`: Set this parameter equal to a Python list with the values of `crypto` and `stock/bond`.\n",
    "\n",
    "3. Use the `savings_df` DataFrame to plot a pie chart that visualizes the composition of the member’s portfolio. The y-axis of the pie chart uses `amount`. Be sure to add a title.\n",
    "\n",
    "4. Using Python, determine if the current portfolio has enough to create an emergency fund as part of the member’s financial plan. Ideally, an emergency fund should equal to three times the member’s monthly income. To do this, implement the following steps:\n",
    "\n",
    "    1. Create a variable named `emergency_fund_value`, and set it equal to three times the value of the member’s `monthly_income` of $12000. (You set this earlier in Part 1).\n",
    "\n",
    "    2. Create a series of three if statements to determine if the member’s total portfolio is large enough to fund the emergency portfolio:\n",
    "\n",
    "        1. If the total portfolio value is greater than the emergency fund value, display a message congratulating the member for having enough money in this fund.\n",
    "\n",
    "        2. Else if the total portfolio value is equal to the emergency fund value, display a message congratulating the member on reaching this important financial goal.\n",
    "\n",
    "        3. Else the total portfolio is less than the emergency fund value, so display a message showing how many dollars away the member is from reaching the goal. (Subtract the total portfolio value from the emergency fund value.)\n"
   ]
  },
  {
   "cell_type": "markdown",
   "metadata": {},
   "source": [
    "#### Step 1: Create a Python list named `savings_data` that has two elements. The first element contains the total value of the cryptocurrency wallet. The second element contains the total value of the stock and bond portions of the portfolio."
   ]
  },
  {
   "cell_type": "code",
   "execution_count": 23,
   "metadata": {},
   "outputs": [
    {
     "data": {
      "text/plain": "[58982.292, 60689.5]"
     },
     "execution_count": 23,
     "metadata": {},
     "output_type": "execute_result"
    }
   ],
   "source": [
    "# Consolidate financial assets data into a Python list\n",
    "savings_data = [total_crypto_wallet, total_stocks_bonds]\n",
    "\n",
    "# Review the Python list savings_data\n",
    "savings_data\n",
    "    "
   ]
  },
  {
   "cell_type": "markdown",
   "metadata": {},
   "source": [
    "#### Step 2: Use the `savings_data` list to create a Pandas DataFrame named `savings_df`, and then display this DataFrame. The function to create the DataFrame should take the following three parameters:\n",
    "\n",
    "- `savings_data`: Use the list that you just created.\n",
    "\n",
    "- `columns`: Set this parameter equal to a Python list with a single value called `amount`.\n",
    "\n",
    "- `index`: Set this parameter equal to a Python list with the values of `crypto` and `stock/bond`.\n"
   ]
  },
  {
   "cell_type": "code",
   "execution_count": 24,
   "metadata": {},
   "outputs": [
    {
     "data": {
      "text/html": "<div>\n<style scoped>\n    .dataframe tbody tr th:only-of-type {\n        vertical-align: middle;\n    }\n\n    .dataframe tbody tr th {\n        vertical-align: top;\n    }\n\n    .dataframe thead th {\n        text-align: right;\n    }\n</style>\n<table border=\"1\" class=\"dataframe\">\n  <thead>\n    <tr style=\"text-align: right;\">\n      <th></th>\n      <th>Amount</th>\n    </tr>\n  </thead>\n  <tbody>\n    <tr>\n      <th>Crypto</th>\n      <td>58982.292</td>\n    </tr>\n    <tr>\n      <th>Stocks/bonds</th>\n      <td>60689.500</td>\n    </tr>\n  </tbody>\n</table>\n</div>",
      "text/plain": "                 Amount\nCrypto        58982.292\nStocks/bonds  60689.500"
     },
     "execution_count": 24,
     "metadata": {},
     "output_type": "execute_result"
    }
   ],
   "source": [
    "# Create a Pandas DataFrame called savings_df \n",
    "savings_df = pd.DataFrame(savings_data, \n",
    "    columns=['Amount'], \n",
    "    index=[\"Crypto\", \"Stocks/bonds\"]\n",
    ")\n",
    "\n",
    "# Display the savings_df DataFrame\n",
    "# YOUR CODE HERE\n",
    "savings_df"
   ]
  },
  {
   "cell_type": "markdown",
   "metadata": {},
   "source": [
    "#### Step 3: Use the `savings_df` DataFrame to plot a pie chart that visualizes the composition of the member’s portfolio. The y-axis of the pie chart uses `amount`. Be sure to add a title."
   ]
  },
  {
   "cell_type": "code",
   "execution_count": 25,
   "metadata": {},
   "outputs": [
    {
     "data": {
      "text/plain": "<AxesSubplot:title={'center':'Portfolio Composition'}>"
     },
     "execution_count": 25,
     "metadata": {},
     "output_type": "execute_result"
    },
    {
     "data": {
      "image/png": "[encoded data removed]",
      "text/plain": "<Figure size 432x288 with 1 Axes>"
     },
     "metadata": {
      "needs_background": "light"
     },
     "output_type": "display_data"
    }
   ],
   "source": [
    "# Plot the total value of the member's portfolio (crypto and stock/bond) in a pie chart\n",
    "savings_df.plot(kind='bar', title=\"Portfolio Composition\")\n"
   ]
  },
  {
   "cell_type": "markdown",
   "metadata": {},
   "source": [
    "#### Step 4: Using Python, determine if the current portfolio has enough to create an emergency fund as part of the member’s financial plan. Ideally, an emergency fund should equal to three times the member’s monthly income. To do this, implement the following steps:\n",
    "\n",
    "Step 1. Create a variable named `emergency_fund_value`, and set it equal to three times the value of the member’s `monthly_income` of 12000. (You set this earlier in Part 1).\n",
    "\n",
    "Step 2. Create a series of three if statements to determine if the member’s total portfolio is large enough to fund the emergency portfolio:\n",
    "\n",
    "* If the total portfolio value is greater than the emergency fund value, display a message congratulating the member for having enough money in this fund.\n",
    "\n",
    "* Else if the total portfolio value is equal to the emergency fund value, display a message congratulating the member on reaching this important financial goal.\n",
    "\n",
    "* Else the total portfolio is less than the emergency fund value, so display a message showing how many dollars away the member is from reaching the goal. (Subtract the total portfolio value from the emergency fund value.)\n"
   ]
  },
  {
   "cell_type": "markdown",
   "metadata": {},
   "source": [
    "##### Step 4-1: Create a variable named `emergency_fund_value`, and set it equal to three times the value of the member’s `monthly_income` of 12000. (You set this earlier in Part 1)."
   ]
  },
  {
   "cell_type": "code",
   "execution_count": 26,
   "metadata": {},
   "outputs": [
    {
     "data": {
      "text/plain": "36000"
     },
     "execution_count": 26,
     "metadata": {},
     "output_type": "execute_result"
    }
   ],
   "source": [
    "# Create a variable named emergency_fund_value\n",
    "emergency_fund_value = monthly_income * 3\n",
    "emergency_fund_value"
   ]
  },
  {
   "cell_type": "markdown",
   "metadata": {},
   "source": [
    "##### Step 4-2: Create a series of three if statements to determine if the member’s total portfolio is large enough to fund the emergency portfolio:\n",
    "\n",
    "* If the total portfolio value is greater than the emergency fund value, display a message congratulating the member for having enough money in this fund.\n",
    "\n",
    "* Else if the total portfolio value is equal to the emergency fund value, display a message congratulating the member on reaching this important financial goal.\n",
    "\n",
    "* Else the total portfolio is less than the emergency fund value, so display a message showing how many dollars away the member is from reaching the goal. (Subtract the total portfolio value from the emergency fund value.)"
   ]
  },
  {
   "cell_type": "code",
   "execution_count": 27,
   "metadata": {},
   "outputs": [
    {
     "name": "stdout",
     "output_type": "stream",
     "text": [
      "Congratulations! Your portfolio covers your emergency fund. Now, stop gambling!\n"
     ]
    }
   ],
   "source": [
    "# Evaluate the possibility of creating an emergency fund with 3 conditions:\n",
    "if total_portfolio > emergency_fund_value:\n",
    "    print(\"Congratulations! Your portfolio covers your emergency fund. Now, stop gambling!\")\n",
    "elif total_portfolio == emergency_fund_value:\n",
    "    print(\"Congratulations! You met your financial goal. Keep up with the gambling habit!\")\n",
    "else:\n",
    "    print(f\"Stop messing around and bet it all! You are ${emergency_fund_value - total_portfolio} from reaching your goal!\")\n"
   ]
  },
  {
   "cell_type": "markdown",
   "metadata": {},
   "source": [
    "## Part 2: Create a Financial Planner for Retirement"
   ]
  },
  {
   "cell_type": "markdown",
   "metadata": {},
   "source": [
    "### Create the Monte Carlo Simulation\n",
    "\n",
    "In this section, you’ll use the MCForecastTools library to create a Monte Carlo simulation for the member’s savings portfolio. To do this, complete the following steps:\n",
    "\n",
    "1. Make an API call via the Alpaca SDK to get 3 years of historical closing prices for a traditional 60/40 portfolio split: 60% stocks (SPY) and 40% bonds (AGG).\n",
    "\n",
    "2. Run a Monte Carlo simulation of 500 samples and 30 years for the 60/40 portfolio, and then plot the results.The following image shows the overlay line plot resulting from a simulation with these characteristics. However, because a random number generator is used to run each live Monte Carlo simulation, your image will differ slightly from this exact image:\n",
    "\n",
    "![A screenshot depicts the resulting plot.](Images/5-4-monte-carlo-line-plot.png)\n",
    "\n",
    "3. Plot the probability distribution of the Monte Carlo simulation. Plot the probability distribution of the Monte Carlo simulation. The following image shows the histogram plot resulting from a simulation with these characteristics. However, because a random number generator is used to run each live Monte Carlo simulation, your image will differ slightly from this exact image:\n",
    "\n",
    "![A screenshot depicts the histogram plot.](Images/5-4-monte-carlo-histogram.png)\n",
    "\n",
    "4. Generate the summary statistics for the Monte Carlo simulation.\n",
    "\n"
   ]
  },
  {
   "cell_type": "markdown",
   "metadata": {},
   "source": [
    "#### Step 1: Make an API call via the Alpaca SDK to get 3 years of historical closing prices for a traditional 60/40 portfolio split: 60% stocks (SPY) and 40% bonds (AGG)."
   ]
  },
  {
   "cell_type": "code",
   "execution_count": 43,
   "metadata": {},
   "outputs": [],
   "source": [
    "# Set start and end dates of 3 years back from your current date\n",
    "# Alternatively, you can use an end date of 2020-08-07 and work 3 years back from that date \n",
    "start_mc=pd.Timestamp(\"2017-08-07\", tz=\"America/New_York\").isoformat()\n",
    "end_mc=pd.Timestamp(\"2020-08-07\", tz=\"America/New_York\").isoformat()\n",
    "limit=1000\n",
    "\n",
    "# YOUR CODE HERE\n",
    "\n",
    "# Set number of rows to 1000 to retrieve the maximum amount of rows\n"
   ]
  },
  {
   "cell_type": "code",
   "execution_count": 46,
   "metadata": {},
   "outputs": [
    {
     "data": {
      "text/html": "<div>\n<style scoped>\n    .dataframe tbody tr th:only-of-type {\n        vertical-align: middle;\n    }\n\n    .dataframe tbody tr th {\n        vertical-align: top;\n    }\n\n    .dataframe thead tr th {\n        text-align: left;\n    }\n\n    .dataframe thead tr:last-of-type th {\n        text-align: right;\n    }\n</style>\n<table border=\"1\" class=\"dataframe\">\n  <thead>\n    <tr>\n      <th></th>\n      <th colspan=\"5\" halign=\"left\">AGG</th>\n      <th colspan=\"5\" halign=\"left\">SPY</th>\n    </tr>\n    <tr>\n      <th></th>\n      <th>open</th>\n      <th>high</th>\n      <th>low</th>\n      <th>close</th>\n      <th>volume</th>\n      <th>open</th>\n      <th>high</th>\n      <th>low</th>\n      <th>close</th>\n      <th>volume</th>\n    </tr>\n    <tr>\n      <th>time</th>\n      <th></th>\n      <th></th>\n      <th></th>\n      <th></th>\n      <th></th>\n      <th></th>\n      <th></th>\n      <th></th>\n      <th></th>\n      <th></th>\n    </tr>\n  </thead>\n  <tbody>\n    <tr>\n      <th>2017-08-07 00:00:00-04:00</th>\n      <td>109.69</td>\n      <td>109.72</td>\n      <td>109.6066</td>\n      <td>109.6850</td>\n      <td>1425317.0</td>\n      <td>247.49</td>\n      <td>247.87</td>\n      <td>247.37</td>\n      <td>247.850</td>\n      <td>20901988</td>\n    </tr>\n    <tr>\n      <th>2017-08-08 00:00:00-04:00</th>\n      <td>109.67</td>\n      <td>109.69</td>\n      <td>109.5000</td>\n      <td>109.5810</td>\n      <td>1998999.0</td>\n      <td>247.51</td>\n      <td>248.91</td>\n      <td>246.83</td>\n      <td>247.291</td>\n      <td>44619069</td>\n    </tr>\n    <tr>\n      <th>2017-08-09 00:00:00-04:00</th>\n      <td>109.87</td>\n      <td>109.87</td>\n      <td>109.6600</td>\n      <td>109.6700</td>\n      <td>2069028.0</td>\n      <td>246.47</td>\n      <td>247.31</td>\n      <td>246.06</td>\n      <td>247.230</td>\n      <td>48543032</td>\n    </tr>\n    <tr>\n      <th>2017-08-10 00:00:00-04:00</th>\n      <td>109.70</td>\n      <td>109.85</td>\n      <td>109.6700</td>\n      <td>109.8053</td>\n      <td>1691677.0</td>\n      <td>246.28</td>\n      <td>246.44</td>\n      <td>243.70</td>\n      <td>243.790</td>\n      <td>87857827</td>\n    </tr>\n    <tr>\n      <th>2017-08-11 00:00:00-04:00</th>\n      <td>109.75</td>\n      <td>109.94</td>\n      <td>109.6800</td>\n      <td>109.8850</td>\n      <td>1613467.0</td>\n      <td>244.02</td>\n      <td>244.80</td>\n      <td>243.75</td>\n      <td>244.110</td>\n      <td>56404847</td>\n    </tr>\n  </tbody>\n</table>\n</div>",
      "text/plain": "                              AGG                                         \\\n                             open    high       low     close     volume   \ntime                                                                       \n2017-08-07 00:00:00-04:00  109.69  109.72  109.6066  109.6850  1425317.0   \n2017-08-08 00:00:00-04:00  109.67  109.69  109.5000  109.5810  1998999.0   \n2017-08-09 00:00:00-04:00  109.87  109.87  109.6600  109.6700  2069028.0   \n2017-08-10 00:00:00-04:00  109.70  109.85  109.6700  109.8053  1691677.0   \n2017-08-11 00:00:00-04:00  109.75  109.94  109.6800  109.8850  1613467.0   \n\n                              SPY                                     \n                             open    high     low    close    volume  \ntime                                                                  \n2017-08-07 00:00:00-04:00  247.49  247.87  247.37  247.850  20901988  \n2017-08-08 00:00:00-04:00  247.51  248.91  246.83  247.291  44619069  \n2017-08-09 00:00:00-04:00  246.47  247.31  246.06  247.230  48543032  \n2017-08-10 00:00:00-04:00  246.28  246.44  243.70  243.790  87857827  \n2017-08-11 00:00:00-04:00  244.02  244.80  243.75  244.110  56404847  "
     },
     "metadata": {},
     "output_type": "display_data"
    },
    {
     "data": {
      "text/html": "<div>\n<style scoped>\n    .dataframe tbody tr th:only-of-type {\n        vertical-align: middle;\n    }\n\n    .dataframe tbody tr th {\n        vertical-align: top;\n    }\n\n    .dataframe thead tr th {\n        text-align: left;\n    }\n\n    .dataframe thead tr:last-of-type th {\n        text-align: right;\n    }\n</style>\n<table border=\"1\" class=\"dataframe\">\n  <thead>\n    <tr>\n      <th></th>\n      <th colspan=\"5\" halign=\"left\">AGG</th>\n      <th colspan=\"5\" halign=\"left\">SPY</th>\n    </tr>\n    <tr>\n      <th></th>\n      <th>open</th>\n      <th>high</th>\n      <th>low</th>\n      <th>close</th>\n      <th>volume</th>\n      <th>open</th>\n      <th>high</th>\n      <th>low</th>\n      <th>close</th>\n      <th>volume</th>\n    </tr>\n    <tr>\n      <th>time</th>\n      <th></th>\n      <th></th>\n      <th></th>\n      <th></th>\n      <th></th>\n      <th></th>\n      <th></th>\n      <th></th>\n      <th></th>\n      <th></th>\n    </tr>\n  </thead>\n  <tbody>\n    <tr>\n      <th>2020-08-03 00:00:00-04:00</th>\n      <td>119.37</td>\n      <td>119.40</td>\n      <td>119.1903</td>\n      <td>119.400</td>\n      <td>17837420.0</td>\n      <td>328.3200</td>\n      <td>329.62</td>\n      <td>327.73</td>\n      <td>328.76</td>\n      <td>71741125</td>\n    </tr>\n    <tr>\n      <th>2020-08-04 00:00:00-04:00</th>\n      <td>119.42</td>\n      <td>119.63</td>\n      <td>119.4200</td>\n      <td>119.630</td>\n      <td>21512268.0</td>\n      <td>327.8600</td>\n      <td>330.06</td>\n      <td>327.86</td>\n      <td>330.03</td>\n      <td>73684427</td>\n    </tr>\n    <tr>\n      <th>2020-08-05 00:00:00-04:00</th>\n      <td>119.39</td>\n      <td>119.49</td>\n      <td>119.3100</td>\n      <td>119.400</td>\n      <td>34175883.0</td>\n      <td>331.4700</td>\n      <td>332.39</td>\n      <td>331.18</td>\n      <td>332.06</td>\n      <td>72846458</td>\n    </tr>\n    <tr>\n      <th>2020-08-06 00:00:00-04:00</th>\n      <td>119.62</td>\n      <td>119.73</td>\n      <td>119.5300</td>\n      <td>119.580</td>\n      <td>9009216.0</td>\n      <td>331.4799</td>\n      <td>334.46</td>\n      <td>331.13</td>\n      <td>334.31</td>\n      <td>76900649</td>\n    </tr>\n    <tr>\n      <th>2020-08-07 00:00:00-04:00</th>\n      <td>119.66</td>\n      <td>119.73</td>\n      <td>119.3950</td>\n      <td>119.445</td>\n      <td>8830420.0</td>\n      <td>333.2800</td>\n      <td>334.88</td>\n      <td>332.30</td>\n      <td>334.55</td>\n      <td>98710236</td>\n    </tr>\n  </tbody>\n</table>\n</div>",
      "text/plain": "                              AGG                                         \\\n                             open    high       low    close      volume   \ntime                                                                       \n2020-08-03 00:00:00-04:00  119.37  119.40  119.1903  119.400  17837420.0   \n2020-08-04 00:00:00-04:00  119.42  119.63  119.4200  119.630  21512268.0   \n2020-08-05 00:00:00-04:00  119.39  119.49  119.3100  119.400  34175883.0   \n2020-08-06 00:00:00-04:00  119.62  119.73  119.5300  119.580   9009216.0   \n2020-08-07 00:00:00-04:00  119.66  119.73  119.3950  119.445   8830420.0   \n\n                                SPY                                    \n                               open    high     low   close    volume  \ntime                                                                   \n2020-08-03 00:00:00-04:00  328.3200  329.62  327.73  328.76  71741125  \n2020-08-04 00:00:00-04:00  327.8600  330.06  327.86  330.03  73684427  \n2020-08-05 00:00:00-04:00  331.4700  332.39  331.18  332.06  72846458  \n2020-08-06 00:00:00-04:00  331.4799  334.46  331.13  334.31  76900649  \n2020-08-07 00:00:00-04:00  333.2800  334.88  332.30  334.55  98710236  "
     },
     "metadata": {},
     "output_type": "display_data"
    }
   ],
   "source": [
    "# Use the Alpaca get_barset function to make the API call to get the 3 years worth of pricing data\n",
    "# The tickers and timeframe parameters should have been set in Part 1 of this activity \n",
    "# The start and end dates should be updated with the information set above\n",
    "# Remember to add the df property to the end of the call so the response is returned as a DataFrame\n",
    "portfolio_mc = alpaca.get_barset(\n",
    "    tickers,\n",
    "    timeframe,\n",
    "    start=start_mc,\n",
    "    end=end_mc,\n",
    "    limit=limit\n",
    ").df\n",
    "\n",
    "\n",
    "# Display both the first and last five rows of the DataFrame\n",
    "display(portfolio_mc.head())\n",
    "display(portfolio_mc.tail())\n"
   ]
  },
  {
   "cell_type": "markdown",
   "metadata": {},
   "source": [
    "#### Step 2: Run a Monte Carlo simulation of 500 samples and 30 years for the 60/40 portfolio, and then plot the results."
   ]
  },
  {
   "cell_type": "code",
   "execution_count": 47,
   "metadata": {},
   "outputs": [
    {
     "data": {
      "text/html": "<div>\n<style scoped>\n    .dataframe tbody tr th:only-of-type {\n        vertical-align: middle;\n    }\n\n    .dataframe tbody tr th {\n        vertical-align: top;\n    }\n\n    .dataframe thead tr th {\n        text-align: left;\n    }\n\n    .dataframe thead tr:last-of-type th {\n        text-align: right;\n    }\n</style>\n<table border=\"1\" class=\"dataframe\">\n  <thead>\n    <tr>\n      <th></th>\n      <th colspan=\"6\" halign=\"left\">AGG</th>\n      <th colspan=\"6\" halign=\"left\">SPY</th>\n    </tr>\n    <tr>\n      <th></th>\n      <th>open</th>\n      <th>high</th>\n      <th>low</th>\n      <th>close</th>\n      <th>volume</th>\n      <th>daily_return</th>\n      <th>open</th>\n      <th>high</th>\n      <th>low</th>\n      <th>close</th>\n      <th>volume</th>\n      <th>daily_return</th>\n    </tr>\n    <tr>\n      <th>time</th>\n      <th></th>\n      <th></th>\n      <th></th>\n      <th></th>\n      <th></th>\n      <th></th>\n      <th></th>\n      <th></th>\n      <th></th>\n      <th></th>\n      <th></th>\n      <th></th>\n    </tr>\n  </thead>\n  <tbody>\n    <tr>\n      <th>2017-08-07 00:00:00-04:00</th>\n      <td>109.69</td>\n      <td>109.72</td>\n      <td>109.6066</td>\n      <td>109.6850</td>\n      <td>1425317.0</td>\n      <td>NaN</td>\n      <td>247.49</td>\n      <td>247.87</td>\n      <td>247.37</td>\n      <td>247.850</td>\n      <td>20901988</td>\n      <td>NaN</td>\n    </tr>\n    <tr>\n      <th>2017-08-08 00:00:00-04:00</th>\n      <td>109.67</td>\n      <td>109.69</td>\n      <td>109.5000</td>\n      <td>109.5810</td>\n      <td>1998999.0</td>\n      <td>-0.000948</td>\n      <td>247.51</td>\n      <td>248.91</td>\n      <td>246.83</td>\n      <td>247.291</td>\n      <td>44619069</td>\n      <td>-0.002255</td>\n    </tr>\n    <tr>\n      <th>2017-08-09 00:00:00-04:00</th>\n      <td>109.87</td>\n      <td>109.87</td>\n      <td>109.6600</td>\n      <td>109.6700</td>\n      <td>2069028.0</td>\n      <td>0.000812</td>\n      <td>246.47</td>\n      <td>247.31</td>\n      <td>246.06</td>\n      <td>247.230</td>\n      <td>48543032</td>\n      <td>-0.000247</td>\n    </tr>\n    <tr>\n      <th>2017-08-10 00:00:00-04:00</th>\n      <td>109.70</td>\n      <td>109.85</td>\n      <td>109.6700</td>\n      <td>109.8053</td>\n      <td>1691677.0</td>\n      <td>0.001234</td>\n      <td>246.28</td>\n      <td>246.44</td>\n      <td>243.70</td>\n      <td>243.790</td>\n      <td>87857827</td>\n      <td>-0.013914</td>\n    </tr>\n    <tr>\n      <th>2017-08-11 00:00:00-04:00</th>\n      <td>109.75</td>\n      <td>109.94</td>\n      <td>109.6800</td>\n      <td>109.8850</td>\n      <td>1613467.0</td>\n      <td>0.000726</td>\n      <td>244.02</td>\n      <td>244.80</td>\n      <td>243.75</td>\n      <td>244.110</td>\n      <td>56404847</td>\n      <td>0.001313</td>\n    </tr>\n  </tbody>\n</table>\n</div>",
      "text/plain": "                              AGG                                         \\\n                             open    high       low     close     volume   \ntime                                                                       \n2017-08-07 00:00:00-04:00  109.69  109.72  109.6066  109.6850  1425317.0   \n2017-08-08 00:00:00-04:00  109.67  109.69  109.5000  109.5810  1998999.0   \n2017-08-09 00:00:00-04:00  109.87  109.87  109.6600  109.6700  2069028.0   \n2017-08-10 00:00:00-04:00  109.70  109.85  109.6700  109.8053  1691677.0   \n2017-08-11 00:00:00-04:00  109.75  109.94  109.6800  109.8850  1613467.0   \n\n                                           SPY                           \\\n                          daily_return    open    high     low    close   \ntime                                                                      \n2017-08-07 00:00:00-04:00          NaN  247.49  247.87  247.37  247.850   \n2017-08-08 00:00:00-04:00    -0.000948  247.51  248.91  246.83  247.291   \n2017-08-09 00:00:00-04:00     0.000812  246.47  247.31  246.06  247.230   \n2017-08-10 00:00:00-04:00     0.001234  246.28  246.44  243.70  243.790   \n2017-08-11 00:00:00-04:00     0.000726  244.02  244.80  243.75  244.110   \n\n                                                  \n                             volume daily_return  \ntime                                              \n2017-08-07 00:00:00-04:00  20901988          NaN  \n2017-08-08 00:00:00-04:00  44619069    -0.002255  \n2017-08-09 00:00:00-04:00  48543032    -0.000247  \n2017-08-10 00:00:00-04:00  87857827    -0.013914  \n2017-08-11 00:00:00-04:00  56404847     0.001313  "
     },
     "execution_count": 47,
     "metadata": {},
     "output_type": "execute_result"
    }
   ],
   "source": [
    "# Configure the Monte Carlo simulation to forecast 30 years cumulative returns\n",
    "# The weights should be split 40% to AGG and 60% to SPY.\n",
    "# Run 500 samples.\n",
    "MC_portfolio = MCSimulation(\n",
    "    portfolio_data=portfolio_mc,\n",
    "    weights=[.6, .4],\n",
    "    num_simulation=500,\n",
    "    num_trading_days=252*30\n",
    ")\n",
    "\n",
    "# Review the simulation input data\n",
    "MC_portfolio.portfolio_data.head()\n"
   ]
  },
  {
   "cell_type": "code",
   "execution_count": 48,
   "metadata": {},
   "outputs": [
    {
     "name": "stdout",
     "output_type": "stream",
     "text": [
      "Running Monte Carlo simulation number 0.\n",
      "Running Monte Carlo simulation number 10.\n",
      "Running Monte Carlo simulation number 20.\n",
      "Running Monte Carlo simulation number 30.\n",
      "Running Monte Carlo simulation number 40.\n",
      "Running Monte Carlo simulation number 50.\n",
      "Running Monte Carlo simulation number 60.\n",
      "Running Monte Carlo simulation number 70.\n",
      "Running Monte Carlo simulation number 80.\n",
      "Running Monte Carlo simulation number 90.\n",
      "Running Monte Carlo simulation number 100.\n",
      "Running Monte Carlo simulation number 110.\n",
      "Running Monte Carlo simulation number 120.\n",
      "Running Monte Carlo simulation number 130.\n",
      "Running Monte Carlo simulation number 140.\n",
      "Running Monte Carlo simulation number 150.\n",
      "Running Monte Carlo simulation number 160.\n",
      "Running Monte Carlo simulation number 170.\n",
      "Running Monte Carlo simulation number 180.\n",
      "Running Monte Carlo simulation number 190.\n",
      "Running Monte Carlo simulation number 200.\n",
      "Running Monte Carlo simulation number 210.\n",
      "Running Monte Carlo simulation number 220.\n",
      "Running Monte Carlo simulation number 230.\n",
      "Running Monte Carlo simulation number 240.\n",
      "Running Monte Carlo simulation number 250.\n",
      "Running Monte Carlo simulation number 260.\n",
      "Running Monte Carlo simulation number 270.\n",
      "Running Monte Carlo simulation number 280.\n",
      "Running Monte Carlo simulation number 290.\n",
      "Running Monte Carlo simulation number 300.\n",
      "Running Monte Carlo simulation number 310.\n",
      "Running Monte Carlo simulation number 320.\n",
      "Running Monte Carlo simulation number 330.\n",
      "Running Monte Carlo simulation number 340.\n",
      "Running Monte Carlo simulation number 350.\n",
      "Running Monte Carlo simulation number 360.\n",
      "Running Monte Carlo simulation number 370.\n",
      "Running Monte Carlo simulation number 380.\n",
      "Running Monte Carlo simulation number 390.\n",
      "Running Monte Carlo simulation number 400.\n",
      "Running Monte Carlo simulation number 410.\n",
      "Running Monte Carlo simulation number 420.\n",
      "Running Monte Carlo simulation number 430.\n",
      "Running Monte Carlo simulation number 440.\n",
      "Running Monte Carlo simulation number 450.\n",
      "Running Monte Carlo simulation number 460.\n",
      "Running Monte Carlo simulation number 470.\n",
      "Running Monte Carlo simulation number 480.\n",
      "Running Monte Carlo simulation number 490.\n"
     ]
    },
    {
     "data": {
      "text/html": "<div>\n<style scoped>\n    .dataframe tbody tr th:only-of-type {\n        vertical-align: middle;\n    }\n\n    .dataframe tbody tr th {\n        vertical-align: top;\n    }\n\n    .dataframe thead th {\n        text-align: right;\n    }\n</style>\n<table border=\"1\" class=\"dataframe\">\n  <thead>\n    <tr style=\"text-align: right;\">\n      <th></th>\n      <th>0</th>\n      <th>1</th>\n      <th>2</th>\n      <th>3</th>\n      <th>4</th>\n      <th>5</th>\n      <th>6</th>\n      <th>7</th>\n      <th>8</th>\n      <th>9</th>\n      <th>...</th>\n      <th>490</th>\n      <th>491</th>\n      <th>492</th>\n      <th>493</th>\n      <th>494</th>\n      <th>495</th>\n      <th>496</th>\n      <th>497</th>\n      <th>498</th>\n      <th>499</th>\n    </tr>\n  </thead>\n  <tbody>\n    <tr>\n      <th>0</th>\n      <td>1.000000</td>\n      <td>1.000000</td>\n      <td>1.000000</td>\n      <td>1.000000</td>\n      <td>1.000000</td>\n      <td>1.000000</td>\n      <td>1.000000</td>\n      <td>1.000000</td>\n      <td>1.000000</td>\n      <td>1.000000</td>\n      <td>...</td>\n      <td>1.000000</td>\n      <td>1.000000</td>\n      <td>1.000000</td>\n      <td>1.000000</td>\n      <td>1.000000</td>\n      <td>1.000000</td>\n      <td>1.000000</td>\n      <td>1.000000</td>\n      <td>1.000000</td>\n      <td>1.000000</td>\n    </tr>\n    <tr>\n      <th>1</th>\n      <td>0.999553</td>\n      <td>1.005940</td>\n      <td>0.997583</td>\n      <td>0.994287</td>\n      <td>1.002571</td>\n      <td>1.000462</td>\n      <td>0.994776</td>\n      <td>1.004121</td>\n      <td>1.002388</td>\n      <td>0.997516</td>\n      <td>...</td>\n      <td>1.002009</td>\n      <td>0.989114</td>\n      <td>0.991366</td>\n      <td>1.001191</td>\n      <td>1.004245</td>\n      <td>1.003171</td>\n      <td>1.007660</td>\n      <td>0.991157</td>\n      <td>0.992064</td>\n      <td>1.010236</td>\n    </tr>\n    <tr>\n      <th>2</th>\n      <td>0.992650</td>\n      <td>1.000070</td>\n      <td>0.992634</td>\n      <td>0.985406</td>\n      <td>0.987868</td>\n      <td>1.000403</td>\n      <td>0.993386</td>\n      <td>1.002950</td>\n      <td>1.011769</td>\n      <td>1.001829</td>\n      <td>...</td>\n      <td>0.992087</td>\n      <td>0.982590</td>\n      <td>0.987666</td>\n      <td>0.990789</td>\n      <td>1.003500</td>\n      <td>0.995598</td>\n      <td>1.009735</td>\n      <td>0.988328</td>\n      <td>1.000737</td>\n      <td>1.011032</td>\n    </tr>\n    <tr>\n      <th>3</th>\n      <td>0.983844</td>\n      <td>1.000246</td>\n      <td>0.988074</td>\n      <td>0.983872</td>\n      <td>0.987653</td>\n      <td>1.001184</td>\n      <td>1.000079</td>\n      <td>1.004628</td>\n      <td>1.018019</td>\n      <td>1.000809</td>\n      <td>...</td>\n      <td>0.977777</td>\n      <td>0.989829</td>\n      <td>0.987256</td>\n      <td>0.990968</td>\n      <td>1.007628</td>\n      <td>0.987014</td>\n      <td>1.017954</td>\n      <td>0.997001</td>\n      <td>1.000432</td>\n      <td>1.018994</td>\n    </tr>\n    <tr>\n      <th>4</th>\n      <td>0.982847</td>\n      <td>0.995646</td>\n      <td>0.984072</td>\n      <td>0.982916</td>\n      <td>0.986245</td>\n      <td>1.003307</td>\n      <td>1.003409</td>\n      <td>1.000934</td>\n      <td>1.025221</td>\n      <td>0.991427</td>\n      <td>...</td>\n      <td>0.979303</td>\n      <td>0.991483</td>\n      <td>0.993210</td>\n      <td>1.006987</td>\n      <td>1.003015</td>\n      <td>0.974879</td>\n      <td>1.016841</td>\n      <td>1.003222</td>\n      <td>0.999504</td>\n      <td>1.025231</td>\n    </tr>\n    <tr>\n      <th>...</th>\n      <td>...</td>\n      <td>...</td>\n      <td>...</td>\n      <td>...</td>\n      <td>...</td>\n      <td>...</td>\n      <td>...</td>\n      <td>...</td>\n      <td>...</td>\n      <td>...</td>\n      <td>...</td>\n      <td>...</td>\n      <td>...</td>\n      <td>...</td>\n      <td>...</td>\n      <td>...</td>\n      <td>...</td>\n      <td>...</td>\n      <td>...</td>\n      <td>...</td>\n      <td>...</td>\n    </tr>\n    <tr>\n      <th>7556</th>\n      <td>12.253417</td>\n      <td>8.741533</td>\n      <td>5.395559</td>\n      <td>4.370276</td>\n      <td>6.127331</td>\n      <td>3.528350</td>\n      <td>5.682086</td>\n      <td>30.900954</td>\n      <td>3.493518</td>\n      <td>4.216183</td>\n      <td>...</td>\n      <td>1.770482</td>\n      <td>8.847459</td>\n      <td>6.839491</td>\n      <td>6.683357</td>\n      <td>4.857409</td>\n      <td>8.973852</td>\n      <td>12.901757</td>\n      <td>4.418716</td>\n      <td>10.578005</td>\n      <td>11.813684</td>\n    </tr>\n    <tr>\n      <th>7557</th>\n      <td>12.276177</td>\n      <td>8.700327</td>\n      <td>5.402485</td>\n      <td>4.327299</td>\n      <td>6.150156</td>\n      <td>3.559545</td>\n      <td>5.709574</td>\n      <td>30.906531</td>\n      <td>3.493796</td>\n      <td>4.239317</td>\n      <td>...</td>\n      <td>1.756151</td>\n      <td>8.837411</td>\n      <td>6.836572</td>\n      <td>6.676520</td>\n      <td>4.910217</td>\n      <td>8.951578</td>\n      <td>12.911458</td>\n      <td>4.410795</td>\n      <td>10.429330</td>\n      <td>11.782484</td>\n    </tr>\n    <tr>\n      <th>7558</th>\n      <td>12.354026</td>\n      <td>8.676000</td>\n      <td>5.415840</td>\n      <td>4.342387</td>\n      <td>6.150417</td>\n      <td>3.548083</td>\n      <td>5.720553</td>\n      <td>30.684328</td>\n      <td>3.499200</td>\n      <td>4.225815</td>\n      <td>...</td>\n      <td>1.738844</td>\n      <td>8.760708</td>\n      <td>6.804817</td>\n      <td>6.723988</td>\n      <td>4.904522</td>\n      <td>9.002922</td>\n      <td>12.955094</td>\n      <td>4.366638</td>\n      <td>10.401613</td>\n      <td>11.869009</td>\n    </tr>\n    <tr>\n      <th>7559</th>\n      <td>12.321844</td>\n      <td>8.638818</td>\n      <td>5.419046</td>\n      <td>4.368425</td>\n      <td>6.216218</td>\n      <td>3.561136</td>\n      <td>5.802934</td>\n      <td>30.900702</td>\n      <td>3.505025</td>\n      <td>4.201607</td>\n      <td>...</td>\n      <td>1.741876</td>\n      <td>8.760946</td>\n      <td>6.763729</td>\n      <td>6.719605</td>\n      <td>4.904387</td>\n      <td>8.968692</td>\n      <td>12.906495</td>\n      <td>4.371042</td>\n      <td>10.420064</td>\n      <td>11.857391</td>\n    </tr>\n    <tr>\n      <th>7560</th>\n      <td>12.294932</td>\n      <td>8.608523</td>\n      <td>5.424154</td>\n      <td>4.323806</td>\n      <td>6.206709</td>\n      <td>3.596459</td>\n      <td>5.821830</td>\n      <td>30.881042</td>\n      <td>3.493848</td>\n      <td>4.226783</td>\n      <td>...</td>\n      <td>1.739851</td>\n      <td>8.720872</td>\n      <td>6.828908</td>\n      <td>6.749894</td>\n      <td>4.917699</td>\n      <td>8.914871</td>\n      <td>12.836251</td>\n      <td>4.357732</td>\n      <td>10.495534</td>\n      <td>11.825282</td>\n    </tr>\n  </tbody>\n</table>\n<p>7561 rows × 500 columns</p>\n</div>",
      "text/plain": "            0         1         2         3         4         5         6    \\\n0      1.000000  1.000000  1.000000  1.000000  1.000000  1.000000  1.000000   \n1      0.999553  1.005940  0.997583  0.994287  1.002571  1.000462  0.994776   \n2      0.992650  1.000070  0.992634  0.985406  0.987868  1.000403  0.993386   \n3      0.983844  1.000246  0.988074  0.983872  0.987653  1.001184  1.000079   \n4      0.982847  0.995646  0.984072  0.982916  0.986245  1.003307  1.003409   \n...         ...       ...       ...       ...       ...       ...       ...   \n7556  12.253417  8.741533  5.395559  4.370276  6.127331  3.528350  5.682086   \n7557  12.276177  8.700327  5.402485  4.327299  6.150156  3.559545  5.709574   \n7558  12.354026  8.676000  5.415840  4.342387  6.150417  3.548083  5.720553   \n7559  12.321844  8.638818  5.419046  4.368425  6.216218  3.561136  5.802934   \n7560  12.294932  8.608523  5.424154  4.323806  6.206709  3.596459  5.821830   \n\n            7         8         9    ...       490       491       492  \\\n0      1.000000  1.000000  1.000000  ...  1.000000  1.000000  1.000000   \n1      1.004121  1.002388  0.997516  ...  1.002009  0.989114  0.991366   \n2      1.002950  1.011769  1.001829  ...  0.992087  0.982590  0.987666   \n3      1.004628  1.018019  1.000809  ...  0.977777  0.989829  0.987256   \n4      1.000934  1.025221  0.991427  ...  0.979303  0.991483  0.993210   \n...         ...       ...       ...  ...       ...       ...       ...   \n7556  30.900954  3.493518  4.216183  ...  1.770482  8.847459  6.839491   \n7557  30.906531  3.493796  4.239317  ...  1.756151  8.837411  6.836572   \n7558  30.684328  3.499200  4.225815  ...  1.738844  8.760708  6.804817   \n7559  30.900702  3.505025  4.201607  ...  1.741876  8.760946  6.763729   \n7560  30.881042  3.493848  4.226783  ...  1.739851  8.720872  6.828908   \n\n           493       494       495        496       497        498        499  \n0     1.000000  1.000000  1.000000   1.000000  1.000000   1.000000   1.000000  \n1     1.001191  1.004245  1.003171   1.007660  0.991157   0.992064   1.010236  \n2     0.990789  1.003500  0.995598   1.009735  0.988328   1.000737   1.011032  \n3     0.990968  1.007628  0.987014   1.017954  0.997001   1.000432   1.018994  \n4     1.006987  1.003015  0.974879   1.016841  1.003222   0.999504   1.025231  \n...        ...       ...       ...        ...       ...        ...        ...  \n7556  6.683357  4.857409  8.973852  12.901757  4.418716  10.578005  11.813684  \n7557  6.676520  4.910217  8.951578  12.911458  4.410795  10.429330  11.782484  \n7558  6.723988  4.904522  9.002922  12.955094  4.366638  10.401613  11.869009  \n7559  6.719605  4.904387  8.968692  12.906495  4.371042  10.420064  11.857391  \n7560  6.749894  4.917699  8.914871  12.836251  4.357732  10.495534  11.825282  \n\n[7561 rows x 500 columns]"
     },
     "execution_count": 48,
     "metadata": {},
     "output_type": "execute_result"
    }
   ],
   "source": [
    "# Run the Monte Carlo simulation to forecast 30 years cumulative returns\n",
    "MC_portfolio.calc_cumulative_return()\n"
   ]
  },
  {
   "cell_type": "code",
   "execution_count": 49,
   "metadata": {},
   "outputs": [
    {
     "data": {
      "image/png": "[encoded data removed]",
      "text/plain": "<Figure size 432x288 with 1 Axes>"
     },
     "metadata": {
      "needs_background": "light"
     },
     "output_type": "display_data"
    }
   ],
   "source": [
    "# Visualize the 30-year Monte Carlo simulation by creating an\n",
    "# overlay line plot\n",
    "portfolio_mc_plot = MC_portfolio.plot_simulation()\n"
   ]
  },
  {
   "cell_type": "markdown",
   "metadata": {},
   "source": [
    "#### Step 3: Plot the probability distribution of the Monte Carlo simulation."
   ]
  },
  {
   "cell_type": "code",
   "execution_count": 50,
   "metadata": {},
   "outputs": [
    {
     "data": {
      "image/png": "[encoded data removed]",
      "text/plain": "<Figure size 432x288 with 1 Axes>"
     },
     "metadata": {
      "needs_background": "light"
     },
     "output_type": "display_data"
    }
   ],
   "source": [
    "# Visualize the probability distribution of the 30-year Monte Carlo simulation \n",
    "# by plotting a histogram\n",
    "portfolio_mc_dist = MC_portfolio.plot_distribution()\n"
   ]
  },
  {
   "cell_type": "markdown",
   "metadata": {},
   "source": [
    "#### Step 4: Generate the summary statistics for the Monte Carlo simulation."
   ]
  },
  {
   "cell_type": "code",
   "execution_count": 51,
   "metadata": {},
   "outputs": [
    {
     "data": {
      "text/plain": "count           500.000000\nmean              7.746547\nstd               4.511795\nmin               1.184868\n25%               4.425962\n50%               6.794376\n75%               9.687600\nmax              30.881042\n95% CI Lower      2.411549\n95% CI Upper     19.092043\nName: 7560, dtype: float64"
     },
     "execution_count": 51,
     "metadata": {},
     "output_type": "execute_result"
    }
   ],
   "source": [
    "# Generate summary statistics from the 30-year Monte Carlo simulation results\n",
    "# Save the results as a variable\n",
    "portfolio_mc_stats = MC_portfolio.summarize_cumulative_return()\n",
    "\n",
    "\n",
    "# Review the 30-year Monte Carlo summary statistics\n",
    "portfolio_mc_stats"
   ]
  },
  {
   "cell_type": "markdown",
   "metadata": {},
   "source": [
    "### Analyze the Retirement Portfolio Forecasts\n",
    "\n",
    "Using the current value of only the stock and bond portion of the member's portfolio and the summary statistics that you generated from the Monte Carlo simulation, answer the following question in your Jupyter notebook:\n",
    "\n",
    "-  What are the lower and upper bounds for the expected value of the portfolio with a 95% confidence interval?\n"
   ]
  },
  {
   "cell_type": "code",
   "execution_count": 52,
   "metadata": {},
   "outputs": [
    {
     "data": {
      "text/plain": "60689.5"
     },
     "execution_count": 52,
     "metadata": {},
     "output_type": "execute_result"
    }
   ],
   "source": [
    "# Print the current balance of the stock and bond portion of the members portfolio\n",
    "total_stocks_bonds\n"
   ]
  },
  {
   "cell_type": "code",
   "execution_count": 54,
   "metadata": {},
   "outputs": [
    {
     "data": {
      "text/plain": "146355.6797869709"
     },
     "metadata": {},
     "output_type": "display_data"
    },
    {
     "data": {
      "text/plain": "1158686.5180192092"
     },
     "metadata": {},
     "output_type": "display_data"
    }
   ],
   "source": [
    "# Use the lower and upper `95%` confidence intervals to calculate the range of the possible outcomes for the current stock/bond portfolio\n",
    "ci_lower_thirty_cumulative_return = portfolio_mc_stats[-2] * total_stocks_bonds\n",
    "ci_upper_thirty_cumulative_return = portfolio_mc_stats[-1] * total_stocks_bonds\n",
    "\n",
    "# Print the result of your calculations\n",
    "display(ci_lower_thirty_cumulative_return)\n",
    "display(ci_upper_thirty_cumulative_return)\n"
   ]
  },
  {
   "cell_type": "markdown",
   "metadata": {},
   "source": [
    "### Forecast Cumulative Returns in 10 Years\n",
    "\n",
    "The CTO of the credit union is impressed with your work on these planning tools but wonders if 30 years is a long time to wait until retirement. So, your next task is to adjust the retirement portfolio and run a new Monte Carlo simulation to find out if the changes will allow members to retire earlier.\n",
    "\n",
    "For this new Monte Carlo simulation, do the following: \n",
    "\n",
    "- Forecast the cumulative returns for 10 years from now. Because of the shortened investment horizon (30 years to 10 years), the portfolio needs to invest more heavily in the riskier asset&mdash;that is, stock&mdash;to help accumulate wealth for retirement. \n",
    "\n",
    "- Adjust the weights of the retirement portfolio so that the composition for the Monte Carlo simulation consists of 20% bonds and 80% stocks. \n",
    "\n",
    "- Run the simulation over 500 samples, and use the same data that the API call to Alpaca generated.\n",
    "\n",
    "- Based on the new Monte Carlo simulation, answer the following questions in your Jupyter notebook:\n",
    "\n",
    "    - Using the current value of only the stock and bond portion of the member's portfolio and the summary statistics that you generated from the new Monte Carlo simulation, what are the lower and upper bounds for the expected value of the portfolio (with the new weights) with a 95% confidence interval?\n",
    "\n",
    "    - Will weighting the portfolio more heavily toward stocks allow the credit union members to retire after only 10 years?\n"
   ]
  },
  {
   "cell_type": "code",
   "execution_count": null,
   "metadata": {},
   "outputs": [],
   "source": [
    "# Configure a Monte Carlo simulation to forecast 10 years cumulative returns\n",
    "# The weights should be split 20% to AGG and 80% to SPY.\n",
    "# Run 500 samples.\n",
    "# YOUR CODE HERE\n",
    "\n",
    "# Review the simulation input data\n",
    "# YOUR CODE HERE\n"
   ]
  },
  {
   "cell_type": "code",
   "execution_count": null,
   "metadata": {},
   "outputs": [],
   "source": [
    "# Run the Monte Carlo simulation to forecast 10 years cumulative returns\n",
    "# YOUR CODE HERE\n"
   ]
  },
  {
   "cell_type": "code",
   "execution_count": null,
   "metadata": {},
   "outputs": [],
   "source": [
    "# Visualize the 10-year Monte Carlo simulation by creating an\n",
    "# overlay line plot\n",
    "# YOUR CODE HERE\n"
   ]
  },
  {
   "cell_type": "code",
   "execution_count": null,
   "metadata": {},
   "outputs": [],
   "source": [
    "# Visualize the probability distribution of the 10-year Monte Carlo simulation \n",
    "# by plotting a histogram\n",
    "# YOUR CODE HERE\n"
   ]
  },
  {
   "cell_type": "code",
   "execution_count": null,
   "metadata": {},
   "outputs": [],
   "source": [
    "# Generate summary statistics from the 10-year Monte Carlo simulation results\n",
    "# Save the results as a variable\n",
    "# YOUR CODE HERE\n",
    "\n",
    "\n",
    "# Review the 10-year Monte Carlo summary statistics\n",
    "# YOUR CODE HERE"
   ]
  },
  {
   "cell_type": "markdown",
   "metadata": {},
   "source": [
    "### Answer the following questions:"
   ]
  },
  {
   "cell_type": "markdown",
   "metadata": {},
   "source": [
    "#### Question: Using the current value of only the stock and bond portion of the member's portfolio and the summary statistics that you generated from the new Monte Carlo simulation, what are the lower and upper bounds for the expected value of the portfolio (with the new weights) with a 95% confidence interval?"
   ]
  },
  {
   "cell_type": "code",
   "execution_count": null,
   "metadata": {},
   "outputs": [],
   "source": [
    "# Print the current balance of the stock and bond portion of the members portfolio\n",
    "# YOUR CODE HERE\n"
   ]
  },
  {
   "cell_type": "code",
   "execution_count": null,
   "metadata": {},
   "outputs": [],
   "source": [
    "# Use the lower and upper `95%` confidence intervals to calculate the range of the possible outcomes for the current stock/bond portfolio\n",
    "ci_lower_ten_cumulative_return = # YOUR CODE HERE\n",
    "ci_upper_ten_cumulative_return = # YOUR CODE HERE\n",
    "\n",
    "# Print the result of your calculations\n",
    "# YOUR CODE HERE\n"
   ]
  },
  {
   "cell_type": "markdown",
   "metadata": {},
   "source": [
    "#### Question: Will weighting the portfolio more heavily to stocks allow the credit union members to retire after only 10 years?"
   ]
  },
  {
   "cell_type": "raw",
   "metadata": {},
   "source": [
    "**Answer** # YOUR ANSWER HERE"
   ]
  },
  {
   "cell_type": "code",
   "execution_count": null,
   "metadata": {},
   "outputs": [],
   "source": []
  }
 ],
 "metadata": {
  "kernelspec": {
   "display_name": "Python 3.7.10 64-bit ('dev': conda)",
   "name": "python3710jvsc74a57bd0756051ce873b5faf84517576cfef92cd98c6606ca8f6797229bf807d95e20b27"
  },
  "language_info": {
   "name": "python",
   "version": ""
  }
 },
 "nbformat": 4,
 "nbformat_minor": 4
}