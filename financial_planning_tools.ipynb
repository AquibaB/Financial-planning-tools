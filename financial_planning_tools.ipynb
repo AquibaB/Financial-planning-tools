{
 "cells": [
  {
   "cell_type": "markdown",
   "metadata": {},
   "source": [
    "# Financial Planning with APIs and Simulations\n",
    "\n",
    "In this Challenge, you’ll create two financial analysis tools by using a single Jupyter notebook:\n",
    "\n",
    "Part 1: A financial planner for emergencies. The members will be able to use this tool to visualize their current savings. The members can then determine if they have enough reserves for an emergency fund.\n",
    "\n",
    "Part 2: A financial planner for retirement. This tool will forecast the performance of their retirement portfolio in 30 years. To do this, the tool will make an Alpaca API call via the Alpaca SDK to get historical price data for use in Monte Carlo simulations.\n",
    "\n",
    "You’ll use the information from the Monte Carlo simulation to answer questions about the portfolio in your Jupyter notebook.\n",
    "\n"
   ]
  },
  {
   "cell_type": "code",
   "execution_count": 1,
   "metadata": {},
   "outputs": [],
   "source": [
    "# Import the required libraries and dependencies\n",
    "import os\n",
    "import requests\n",
    "import json\n",
    "import pandas as pd\n",
    "from dotenv import load_dotenv\n",
    "import alpaca_trade_api as tradeapi\n",
    "from MCForecastTools import MCSimulation\n",
    "\n",
    "%matplotlib inline"
   ]
  },
  {
   "cell_type": "code",
   "execution_count": 2,
   "metadata": {},
   "outputs": [
    {
     "data": {
      "text/plain": "True"
     },
     "execution_count": 2,
     "metadata": {},
     "output_type": "execute_result"
    }
   ],
   "source": [
    "# Load the environment variables from the .env file\n",
    "#by calling the load_dotenv function\n",
    "load_dotenv()"
   ]
  },
  {
   "cell_type": "markdown",
   "metadata": {},
   "source": [
    "## Part 1: Create a Financial Planner for Emergencies"
   ]
  },
  {
   "cell_type": "markdown",
   "metadata": {},
   "source": [
    "### Evaluate the Cryptocurrency Wallet by Using the Requests Library\n",
    "\n",
    "In this section, you’ll determine the current value of a member’s cryptocurrency wallet. You’ll collect the current prices for the Bitcoin and Ethereum cryptocurrencies by using the Python Requests library. For the prototype, you’ll assume that the member holds the 1.2 Bitcoins (BTC) and 5.3 Ethereum coins (ETH). To do all this, complete the following steps:\n",
    "\n",
    "1. Create a variable named `monthly_income`, and set its value to `12000`.\n",
    "\n",
    "2. Use the Requests library to get the current price (in US dollars) of Bitcoin (BTC) and Ethereum (ETH) by using the API endpoints that the starter code supplies.\n",
    "\n",
    "3. Navigate the JSON response object to access the current price of each coin, and store each in a variable.\n",
    "\n",
    "    > **Hint** Note the specific identifier for each cryptocurrency in the API JSON response. The Bitcoin identifier is `1`, and the Ethereum identifier is `1027`.\n",
    "\n",
    "4. Calculate the value, in US dollars, of the current amount of each cryptocurrency and of the entire cryptocurrency wallet.\n",
    "\n"
   ]
  },
  {
   "cell_type": "code",
   "execution_count": 3,
   "metadata": {},
   "outputs": [],
   "source": [
    "# The current number of coins for each cryptocurrency asset held in the portfolio.\n",
    "btc_coins = 1.2\n",
    "eth_coins = 5.3"
   ]
  },
  {
   "cell_type": "markdown",
   "metadata": {},
   "source": [
    "#### Step 1: Create a variable named `monthly_income`, and set its value to `12000`."
   ]
  },
  {
   "cell_type": "code",
   "execution_count": 4,
   "metadata": {},
   "outputs": [],
   "source": [
    "# The monthly amount for the member's household income\n",
    "monthly_income = 12000\n"
   ]
  },
  {
   "cell_type": "markdown",
   "metadata": {},
   "source": [
    "#### Review the endpoint URLs for the API calls to Free Crypto API in order to get the current pricing information for both BTC and ETH."
   ]
  },
  {
   "cell_type": "code",
   "execution_count": 5,
   "metadata": {},
   "outputs": [],
   "source": [
    "# The Free Crypto API Call endpoint URLs for the held cryptocurrency assets\n",
    "btc_url = \"https://api.alternative.me/v2/ticker/Bitcoin/?convert=USD\"\n",
    "eth_url = \"https://api.alternative.me/v2/ticker/Ethereum/?convert=USD\""
   ]
  },
  {
   "cell_type": "markdown",
   "metadata": {},
   "source": [
    "#### Step 2. Use the Requests library to get the current price (in US dollars) of Bitcoin (BTC) and Ethereum (ETH) by using the API endpoints that the starter code supplied."
   ]
  },
  {
   "cell_type": "code",
   "execution_count": 6,
   "metadata": {},
   "outputs": [
    {
     "name": "stdout",
     "output_type": "stream",
     "text": [
      "{\n",
      "    \"data\": {\n",
      "        \"1\": {\n",
      "            \"circulating_supply\": 18770281,\n",
      "            \"id\": 1,\n",
      "            \"last_updated\": 1627576754,\n",
      "            \"max_supply\": 21000000,\n",
      "            \"name\": \"Bitcoin\",\n",
      "            \"quotes\": {\n",
      "                \"USD\": {\n",
      "                    \"market_cap\": 749002340799,\n",
      "                    \"percent_change_1h\": -0.32967870089355,\n",
      "                    \"percent_change_24h\": 0.0581298609978841,\n",
      "                    \"percent_change_7d\": 23.13732586035,\n",
      "                    \"percentage_change_1h\": -0.32967870089355,\n",
      "                    \"percentage_change_24h\": 0.0581298609978841,\n",
      "                    \"percentage_change_7d\": 23.13732586035,\n",
      "                    \"price\": 39877.0,\n",
      "                    \"volume_24h\": 32790380482\n",
      "                }\n",
      "            },\n",
      "            \"rank\": 1,\n",
      "            \"symbol\": \"BTC\",\n",
      "            \"total_supply\": 18770281,\n",
      "            \"website_slug\": \"bitcoin\"\n",
      "        }\n",
      "    },\n",
      "    \"metadata\": {\n",
      "        \"error\": null,\n",
      "        \"num_cryptocurrencies\": 3105,\n",
      "        \"timestamp\": 1627576754\n",
      "    }\n",
      "}\n"
     ]
    }
   ],
   "source": [
    "# Using the Python requests library, make an API call to access the current price of BTC\n",
    "btc_response = requests.get(btc_url).json()\n",
    "\n",
    "# Use the json.dumps function to review the response data from the API call\n",
    "# Use the indent and sort_keys parameters to make the response object readable\n",
    "print(json.dumps(btc_response, indent=4, sort_keys=True))\n"
   ]
  },
  {
   "cell_type": "code",
   "execution_count": 7,
   "metadata": {},
   "outputs": [
    {
     "name": "stdout",
     "output_type": "stream",
     "text": [
      "{\n",
      "    \"data\": {\n",
      "        \"1027\": {\n",
      "            \"circulating_supply\": 116890352,\n",
      "            \"id\": 1027,\n",
      "            \"last_updated\": 1627576757,\n",
      "            \"max_supply\": 0,\n",
      "            \"name\": \"Ethereum\",\n",
      "            \"quotes\": {\n",
      "                \"USD\": {\n",
      "                    \"market_cap\": 272654458120,\n",
      "                    \"percent_change_1h\": 0.440606054046256,\n",
      "                    \"percent_change_24h\": 0.847707350625622,\n",
      "                    \"percent_change_7d\": 16.3788712505787,\n",
      "                    \"percentage_change_1h\": 0.440606054046256,\n",
      "                    \"percentage_change_24h\": 0.847707350625622,\n",
      "                    \"percentage_change_7d\": 16.3788712505787,\n",
      "                    \"price\": 2331.91,\n",
      "                    \"volume_24h\": 18523604399\n",
      "                }\n",
      "            },\n",
      "            \"rank\": 2,\n",
      "            \"symbol\": \"ETH\",\n",
      "            \"total_supply\": 116890352,\n",
      "            \"website_slug\": \"ethereum\"\n",
      "        }\n",
      "    },\n",
      "    \"metadata\": {\n",
      "        \"error\": null,\n",
      "        \"num_cryptocurrencies\": 3105,\n",
      "        \"timestamp\": 1627576757\n",
      "    }\n",
      "}\n"
     ]
    }
   ],
   "source": [
    "# Using the Python requests library, make an API call to access the current price ETH\n",
    "eth_response = requests.get(eth_url).json()\n",
    "\n",
    "# Use the json.dumps function to review the response data from the API call\n",
    "# Use the indent and sort_keys parameters to make the response object readable\n",
    "print(json.dumps(eth_response, indent=4, sort_keys=True))\n"
   ]
  },
  {
   "cell_type": "markdown",
   "metadata": {},
   "source": [
    "#### Step 3: Navigate the JSON response object to access the current price of each coin, and store each in a variable."
   ]
  },
  {
   "cell_type": "code",
   "execution_count": 8,
   "metadata": {},
   "outputs": [
    {
     "name": "stdout",
     "output_type": "stream",
     "text": [
      "39877.0\n"
     ]
    }
   ],
   "source": [
    "# Navigate the BTC response object to access the current price of BTC\n",
    "btc_price = btc_response['data']['1']['quotes']['USD']['price']\n",
    "\n",
    "# Print the current price of BTC\n",
    "print(btc_price)\n"
   ]
  },
  {
   "cell_type": "code",
   "execution_count": 9,
   "metadata": {},
   "outputs": [
    {
     "name": "stdout",
     "output_type": "stream",
     "text": [
      "2331.91\n"
     ]
    }
   ],
   "source": [
    "# Navigate the BTC response object to access the current price of ETH\n",
    "eth_price = eth_response['data']['1027']['quotes']['USD']['price']\n",
    "\n",
    "# Print the current price of ETH\n",
    "print(eth_price)\n"
   ]
  },
  {
   "cell_type": "markdown",
   "metadata": {},
   "source": [
    "### Step 4: Calculate the value, in US dollars, of the current amount of each cryptocurrency and of the entire cryptocurrency wallet."
   ]
  },
  {
   "cell_type": "code",
   "execution_count": 10,
   "metadata": {},
   "outputs": [
    {
     "name": "stdout",
     "output_type": "stream",
     "text": [
      "47852.4\n"
     ]
    }
   ],
   "source": [
    "# Compute the current value of the BTC holding \n",
    "btc_value = btc_price * btc_coins\n",
    "\n",
    "# Print current value of your holding in BTC\n",
    "print(btc_value)\n"
   ]
  },
  {
   "cell_type": "code",
   "execution_count": 11,
   "metadata": {},
   "outputs": [
    {
     "name": "stdout",
     "output_type": "stream",
     "text": [
      "12359.123\n"
     ]
    }
   ],
   "source": [
    "# Compute the current value of the ETH holding \n",
    "eth_value = eth_price * eth_coins\n",
    "\n",
    "# Print current value of your holding in ETH\n",
    "print(eth_value)\n"
   ]
  },
  {
   "cell_type": "code",
   "execution_count": 12,
   "metadata": {},
   "outputs": [
    {
     "name": "stdout",
     "output_type": "stream",
     "text": [
      "60211.523\n"
     ]
    }
   ],
   "source": [
    "# Compute the total value of the cryptocurrency wallet\n",
    "# Add the value of the BTC holding to the value of the ETH holding\n",
    "total_crypto_wallet = eth_value + btc_value\n",
    "\n",
    "# Print current cryptocurrency wallet balance\n",
    "print(total_crypto_wallet)\n"
   ]
  },
  {
   "cell_type": "markdown",
   "metadata": {},
   "source": [
    "### Evaluate the Stock and Bond Holdings by Using the Alpaca SDK\n",
    "\n",
    "In this section, you’ll determine the current value of a member’s stock and bond holdings. You’ll make an API call to Alpaca via the Alpaca SDK to get the current closing prices of the SPDR S&P 500 ETF Trust (ticker: SPY) and of the iShares Core US Aggregate Bond ETF (ticker: AGG). For the prototype, assume that the member holds 110 shares of SPY, which represents the stock portion of their portfolio, and 200 shares of AGG, which represents the bond portion. To do all this, complete the following steps:\n",
    "\n",
    "1. In the `Starter_Code` folder, create an environment file (`.env`) to store the values of your Alpaca API key and Alpaca secret key.\n",
    "\n",
    "2. Set the variables for the Alpaca API and secret keys. Using the Alpaca SDK, create the Alpaca `tradeapi.REST` object. In this object, include the parameters for the Alpaca API key, the secret key, and the version number.\n",
    "\n",
    "3. Set the following parameters for the Alpaca API call:\n",
    "\n",
    "    - `tickers`: Use the tickers for the member’s stock and bond holdings.\n",
    "\n",
    "    - `timeframe`: Use a time frame of one day.\n",
    "\n",
    "    - `start_date` and `end_date`: Use the same date for these parameters, and format them with the date of the previous weekday (or `2020-08-07`). This is because you want the one closing price for the most-recent trading day.\n",
    "\n",
    "4. Get the current closing prices for `SPY` and `AGG` by using the Alpaca `get_barset` function. Format the response as a Pandas DataFrame by including the `df` property at the end of the `get_barset` function.\n",
    "\n",
    "5. Navigating the Alpaca response DataFrame, select the `SPY` and `AGG` closing prices, and store them as variables.\n",
    "\n",
    "6. Calculate the value, in US dollars, of the current amount of shares in each of the stock and bond portions of the portfolio, and print the results.\n"
   ]
  },
  {
   "cell_type": "markdown",
   "metadata": {},
   "source": [
    "#### Review the total number of shares held in both (SPY) and (AGG)."
   ]
  },
  {
   "cell_type": "code",
   "execution_count": 13,
   "metadata": {},
   "outputs": [],
   "source": [
    "# Current amount of shares held in both the stock (SPY) and bond (AGG) portion of the portfolio.\n",
    "spy_shares = 110\n",
    "agg_shares = 200\n"
   ]
  },
  {
   "cell_type": "markdown",
   "metadata": {},
   "source": [
    "#### Step 1: In the `Starter_Code` folder, create an environment file (`.env`) to store the values of your Alpaca API key and Alpaca secret key."
   ]
  },
  {
   "cell_type": "markdown",
   "metadata": {},
   "source": [
    "#### Step 2: Set the variables for the Alpaca API and secret keys. Using the Alpaca SDK, create the Alpaca `tradeapi.REST` object. In this object, include the parameters for the Alpaca API key, the secret key, and the version number."
   ]
  },
  {
   "cell_type": "code",
   "execution_count": 14,
   "metadata": {},
   "outputs": [],
   "source": [
    "# Set the variables for the Alpaca API and secret keys\n",
    "alpaca_api_key = os.getenv(\"ALPACA_API_KEY\")\n",
    "alpaca_secret_key = os.getenv(\"ALPACA_SECRET_KEY\")\n",
    "# YOUR CODE HERE\n",
    "\n",
    "# Create the Alpaca tradeapi.REST object\n",
    "alpaca = tradeapi.REST(\n",
    "    alpaca_api_key,\n",
    "    alpaca_secret_key,\n",
    "    api_version=\"v2\"\n",
    ")\n"
   ]
  },
  {
   "cell_type": "markdown",
   "metadata": {},
   "source": [
    "#### Step 3: Set the following parameters for the Alpaca API call:\n",
    "\n",
    "- `tickers`: Use the tickers for the member’s stock and bond holdings.\n",
    "\n",
    "- `timeframe`: Use a time frame of one day.\n",
    "\n",
    "- `start_date` and `end_date`: Use the same date for these parameters, and format them with the date of the previous weekday (or `2020-08-07`). This is because you want the one closing price for the most-recent trading day.\n"
   ]
  },
  {
   "cell_type": "code",
   "execution_count": 15,
   "metadata": {},
   "outputs": [],
   "source": [
    "# Set the tickers for both the bond and stock portion of the portfolio\n",
    "tickers = ['SPY', 'AGG']\n",
    "\n",
    "# Set timeframe to 1D \n",
    "timeframe = \"1D\"\n",
    "\n",
    "# Format current date as ISO format\n",
    "# Set both the start and end date at the date of your prior weekday \n",
    "# This will give you the closing price of the previous trading day\n",
    "# Alternatively you can use a start and end date of 2020-08-07\n",
    "start_date = pd.Timestamp(\"2020-08-07\", tz=\"America/New_York\").isoformat()\n",
    "end_date = pd.Timestamp(\"2020-08-07\", tz=\"America/New_York\").isoformat()\n"
   ]
  },
  {
   "cell_type": "markdown",
   "metadata": {},
   "source": [
    "#### Step 4: Get the current closing prices for `SPY` and `AGG` by using the Alpaca `get_barset` function. Format the response as a Pandas DataFrame by including the `df` property at the end of the `get_barset` function."
   ]
  },
  {
   "cell_type": "code",
   "execution_count": 16,
   "metadata": {},
   "outputs": [
    {
     "data": {
      "text/html": "<div>\n<style scoped>\n    .dataframe tbody tr th:only-of-type {\n        vertical-align: middle;\n    }\n\n    .dataframe tbody tr th {\n        vertical-align: top;\n    }\n\n    .dataframe thead tr th {\n        text-align: left;\n    }\n\n    .dataframe thead tr:last-of-type th {\n        text-align: right;\n    }\n</style>\n<table border=\"1\" class=\"dataframe\">\n  <thead>\n    <tr>\n      <th></th>\n      <th colspan=\"5\" halign=\"left\">AGG</th>\n      <th colspan=\"5\" halign=\"left\">SPY</th>\n    </tr>\n    <tr>\n      <th></th>\n      <th>open</th>\n      <th>high</th>\n      <th>low</th>\n      <th>close</th>\n      <th>volume</th>\n      <th>open</th>\n      <th>high</th>\n      <th>low</th>\n      <th>close</th>\n      <th>volume</th>\n    </tr>\n    <tr>\n      <th>time</th>\n      <th></th>\n      <th></th>\n      <th></th>\n      <th></th>\n      <th></th>\n      <th></th>\n      <th></th>\n      <th></th>\n      <th></th>\n      <th></th>\n    </tr>\n  </thead>\n  <tbody>\n    <tr>\n      <th>2020-08-07 00:00:00-04:00</th>\n      <td>119.66</td>\n      <td>119.73</td>\n      <td>119.395</td>\n      <td>119.445</td>\n      <td>8830420</td>\n      <td>333.28</td>\n      <td>334.88</td>\n      <td>332.3</td>\n      <td>334.55</td>\n      <td>98710236</td>\n    </tr>\n  </tbody>\n</table>\n</div>",
      "text/plain": "                              AGG                                        SPY  \\\n                             open    high      low    close   volume    open   \ntime                                                                           \n2020-08-07 00:00:00-04:00  119.66  119.73  119.395  119.445  8830420  333.28   \n\n                                                            \n                             high    low   close    volume  \ntime                                                        \n2020-08-07 00:00:00-04:00  334.88  332.3  334.55  98710236  "
     },
     "execution_count": 16,
     "metadata": {},
     "output_type": "execute_result"
    }
   ],
   "source": [
    "# Use the Alpaca get_barset function to get current closing prices the portfolio\n",
    "# Be sure to set the `df` property after the function to format the response object as a DataFrame\n",
    "portfolio = alpaca.get_barset(\n",
    "    tickers,\n",
    "    timeframe,\n",
    "    start=start_date,\n",
    "    end=end_date\n",
    ").df\n",
    "\n",
    "# Review the first 5 rows of the Alpaca DataFrame\n",
    "portfolio.head()\n"
   ]
  },
  {
   "cell_type": "markdown",
   "metadata": {},
   "source": [
    "#### Step 5: Navigating the Alpaca response DataFrame, select the `SPY` and `AGG` closing prices, and store them as variables."
   ]
  },
  {
   "cell_type": "code",
   "execution_count": 17,
   "metadata": {},
   "outputs": [
    {
     "data": {
      "text/plain": "119.445"
     },
     "execution_count": 17,
     "metadata": {},
     "output_type": "execute_result"
    }
   ],
   "source": [
    "# Access the closing price for AGG from the Alpaca DataFrame\n",
    "# Converting the value to a floating point number\n",
    "agg_close_price = float(portfolio['AGG']['close'])\n",
    "\n",
    "# Print the AGG closing price\n",
    "agg_close_price\n"
   ]
  },
  {
   "cell_type": "code",
   "execution_count": 18,
   "metadata": {},
   "outputs": [
    {
     "data": {
      "text/plain": "334.55"
     },
     "execution_count": 18,
     "metadata": {},
     "output_type": "execute_result"
    }
   ],
   "source": [
    "# Access the closing price for SPY from the Alpaca DataFrame\n",
    "# Converting the value to a floating point number\n",
    "spy_close_price = float(portfolio['SPY']['close'])\n",
    "\n",
    "# Print the SPY closing price\n",
    "spy_close_price\n"
   ]
  },
  {
   "cell_type": "markdown",
   "metadata": {},
   "source": [
    "#### Step 6: Calculate the value, in US dollars, of the current amount of shares in each of the stock and bond portions of the portfolio, and print the results."
   ]
  },
  {
   "cell_type": "code",
   "execution_count": 19,
   "metadata": {},
   "outputs": [
    {
     "data": {
      "text/plain": "23889.0"
     },
     "execution_count": 19,
     "metadata": {},
     "output_type": "execute_result"
    }
   ],
   "source": [
    "# Calculate the current value of the bond portion of the portfolio\n",
    "agg_value = agg_shares * agg_close_price\n",
    "\n",
    "# Print the current value of the bond portfolio\n",
    "agg_value\n"
   ]
  },
  {
   "cell_type": "code",
   "execution_count": 20,
   "metadata": {},
   "outputs": [
    {
     "data": {
      "text/plain": "36800.5"
     },
     "execution_count": 20,
     "metadata": {},
     "output_type": "execute_result"
    }
   ],
   "source": [
    "# Calculate the current value of the stock portion of the portfolio\n",
    "spy_value = spy_shares * spy_close_price\n",
    "\n",
    "# Print the current value of the stock portfolio\n",
    "spy_value\n"
   ]
  },
  {
   "cell_type": "code",
   "execution_count": 21,
   "metadata": {},
   "outputs": [
    {
     "data": {
      "text/plain": "60689.5"
     },
     "execution_count": 21,
     "metadata": {},
     "output_type": "execute_result"
    }
   ],
   "source": [
    "# Calculate the total value of the stock and bond portion of the portfolio\n",
    "total_stocks_bonds = agg_value + spy_value\n",
    "\n",
    "# Print the current balance of the stock and bond portion of the portfolio\n",
    "total_stocks_bonds\n"
   ]
  },
  {
   "cell_type": "code",
   "execution_count": 22,
   "metadata": {},
   "outputs": [
    {
     "data": {
      "text/plain": "120901.023"
     },
     "execution_count": 22,
     "metadata": {},
     "output_type": "execute_result"
    }
   ],
   "source": [
    "# Calculate the total value of the member's entire savings portfolio\n",
    "# Add the value of the cryptocurrency walled to the value of the total stocks and bonds\n",
    "total_portfolio = total_crypto_wallet + total_stocks_bonds\n",
    "\n",
    "# Print current cryptocurrency wallet balance\n",
    "total_portfolio\n"
   ]
  },
  {
   "cell_type": "markdown",
   "metadata": {},
   "source": [
    "### Evaluate the Emergency Fund\n",
    "\n",
    "In this section, you’ll use the valuations for the cryptocurrency wallet and for the stock and bond portions of the portfolio to determine if the credit union member has enough savings to build an emergency fund into their financial plan. To do this, complete the following steps:\n",
    "\n",
    "1. Create a Python list named `savings_data` that has two elements. The first element contains the total value of the cryptocurrency wallet. The second element contains the total value of the stock and bond portions of the portfolio.\n",
    "\n",
    "2. Use the `savings_data` list to create a Pandas DataFrame named `savings_df`, and then display this DataFrame. The function to create the DataFrame should take the following three parameters:\n",
    "\n",
    "    - `savings_data`: Use the list that you just created.\n",
    "\n",
    "    - `columns`: Set this parameter equal to a Python list with a single value called `amount`.\n",
    "\n",
    "    - `index`: Set this parameter equal to a Python list with the values of `crypto` and `stock/bond`.\n",
    "\n",
    "3. Use the `savings_df` DataFrame to plot a pie chart that visualizes the composition of the member’s portfolio. The y-axis of the pie chart uses `amount`. Be sure to add a title.\n",
    "\n",
    "4. Using Python, determine if the current portfolio has enough to create an emergency fund as part of the member’s financial plan. Ideally, an emergency fund should equal to three times the member’s monthly income. To do this, implement the following steps:\n",
    "\n",
    "    1. Create a variable named `emergency_fund_value`, and set it equal to three times the value of the member’s `monthly_income` of $12000. (You set this earlier in Part 1).\n",
    "\n",
    "    2. Create a series of three if statements to determine if the member’s total portfolio is large enough to fund the emergency portfolio:\n",
    "\n",
    "        1. If the total portfolio value is greater than the emergency fund value, display a message congratulating the member for having enough money in this fund.\n",
    "\n",
    "        2. Else if the total portfolio value is equal to the emergency fund value, display a message congratulating the member on reaching this important financial goal.\n",
    "\n",
    "        3. Else the total portfolio is less than the emergency fund value, so display a message showing how many dollars away the member is from reaching the goal. (Subtract the total portfolio value from the emergency fund value.)\n"
   ]
  },
  {
   "cell_type": "markdown",
   "metadata": {},
   "source": [
    "#### Step 1: Create a Python list named `savings_data` that has two elements. The first element contains the total value of the cryptocurrency wallet. The second element contains the total value of the stock and bond portions of the portfolio."
   ]
  },
  {
   "cell_type": "code",
   "execution_count": 23,
   "metadata": {},
   "outputs": [
    {
     "data": {
      "text/plain": "[60211.523, 60689.5]"
     },
     "execution_count": 23,
     "metadata": {},
     "output_type": "execute_result"
    }
   ],
   "source": [
    "# Consolidate financial assets data into a Python list\n",
    "savings_data = [total_crypto_wallet, total_stocks_bonds]\n",
    "\n",
    "# Review the Python list savings_data\n",
    "savings_data\n",
    "    "
   ]
  },
  {
   "cell_type": "markdown",
   "metadata": {},
   "source": [
    "#### Step 2: Use the `savings_data` list to create a Pandas DataFrame named `savings_df`, and then display this DataFrame. The function to create the DataFrame should take the following three parameters:\n",
    "\n",
    "- `savings_data`: Use the list that you just created.\n",
    "\n",
    "- `columns`: Set this parameter equal to a Python list with a single value called `amount`.\n",
    "\n",
    "- `index`: Set this parameter equal to a Python list with the values of `crypto` and `stock/bond`.\n"
   ]
  },
  {
   "cell_type": "code",
   "execution_count": 24,
   "metadata": {},
   "outputs": [
    {
     "data": {
      "text/html": "<div>\n<style scoped>\n    .dataframe tbody tr th:only-of-type {\n        vertical-align: middle;\n    }\n\n    .dataframe tbody tr th {\n        vertical-align: top;\n    }\n\n    .dataframe thead th {\n        text-align: right;\n    }\n</style>\n<table border=\"1\" class=\"dataframe\">\n  <thead>\n    <tr style=\"text-align: right;\">\n      <th></th>\n      <th>Amount</th>\n    </tr>\n  </thead>\n  <tbody>\n    <tr>\n      <th>Crypto</th>\n      <td>60211.523</td>\n    </tr>\n    <tr>\n      <th>Stocks/bonds</th>\n      <td>60689.500</td>\n    </tr>\n  </tbody>\n</table>\n</div>",
      "text/plain": "                 Amount\nCrypto        60211.523\nStocks/bonds  60689.500"
     },
     "execution_count": 24,
     "metadata": {},
     "output_type": "execute_result"
    }
   ],
   "source": [
    "# Create a Pandas DataFrame called savings_df \n",
    "savings_df = pd.DataFrame(savings_data, \n",
    "    columns=['Amount'], \n",
    "    index=[\"Crypto\", \"Stocks/bonds\"]\n",
    ")\n",
    "\n",
    "# Display the savings_df DataFrame\n",
    "# YOUR CODE HERE\n",
    "savings_df"
   ]
  },
  {
   "cell_type": "markdown",
   "metadata": {},
   "source": [
    "#### Step 3: Use the `savings_df` DataFrame to plot a pie chart that visualizes the composition of the member’s portfolio. The y-axis of the pie chart uses `amount`. Be sure to add a title."
   ]
  },
  {
   "cell_type": "code",
   "execution_count": 25,
   "metadata": {},
   "outputs": [
    {
     "data": {
      "text/plain": "<AxesSubplot:title={'center':'Portfolio Composition'}>"
     },
     "execution_count": 25,
     "metadata": {},
     "output_type": "execute_result"
    },
    {
     "data": {
      "image/png": "[encoded data removed]",
      "text/plain": "<Figure size 432x288 with 1 Axes>"
     },
     "metadata": {
      "needs_background": "light"
     },
     "output_type": "display_data"
    }
   ],
   "source": [
    "# Plot the total value of the member's portfolio (crypto and stock/bond) in a pie chart\n",
    "savings_df.plot(kind='bar', title=\"Portfolio Composition\")\n"
   ]
  },
  {
   "cell_type": "markdown",
   "metadata": {},
   "source": [
    "#### Step 4: Using Python, determine if the current portfolio has enough to create an emergency fund as part of the member’s financial plan. Ideally, an emergency fund should equal to three times the member’s monthly income. To do this, implement the following steps:\n",
    "\n",
    "Step 1. Create a variable named `emergency_fund_value`, and set it equal to three times the value of the member’s `monthly_income` of 12000. (You set this earlier in Part 1).\n",
    "\n",
    "Step 2. Create a series of three if statements to determine if the member’s total portfolio is large enough to fund the emergency portfolio:\n",
    "\n",
    "* If the total portfolio value is greater than the emergency fund value, display a message congratulating the member for having enough money in this fund.\n",
    "\n",
    "* Else if the total portfolio value is equal to the emergency fund value, display a message congratulating the member on reaching this important financial goal.\n",
    "\n",
    "* Else the total portfolio is less than the emergency fund value, so display a message showing how many dollars away the member is from reaching the goal. (Subtract the total portfolio value from the emergency fund value.)\n"
   ]
  },
  {
   "cell_type": "markdown",
   "metadata": {},
   "source": [
    "##### Step 4-1: Create a variable named `emergency_fund_value`, and set it equal to three times the value of the member’s `monthly_income` of 12000. (You set this earlier in Part 1)."
   ]
  },
  {
   "cell_type": "code",
   "execution_count": 26,
   "metadata": {},
   "outputs": [
    {
     "data": {
      "text/plain": "36000"
     },
     "execution_count": 26,
     "metadata": {},
     "output_type": "execute_result"
    }
   ],
   "source": [
    "# Create a variable named emergency_fund_value\n",
    "emergency_fund_value = monthly_income * 3\n",
    "emergency_fund_value"
   ]
  },
  {
   "cell_type": "markdown",
   "metadata": {},
   "source": [
    "##### Step 4-2: Create a series of three if statements to determine if the member’s total portfolio is large enough to fund the emergency portfolio:\n",
    "\n",
    "* If the total portfolio value is greater than the emergency fund value, display a message congratulating the member for having enough money in this fund.\n",
    "\n",
    "* Else if the total portfolio value is equal to the emergency fund value, display a message congratulating the member on reaching this important financial goal.\n",
    "\n",
    "* Else the total portfolio is less than the emergency fund value, so display a message showing how many dollars away the member is from reaching the goal. (Subtract the total portfolio value from the emergency fund value.)"
   ]
  },
  {
   "cell_type": "code",
   "execution_count": 27,
   "metadata": {},
   "outputs": [
    {
     "name": "stdout",
     "output_type": "stream",
     "text": [
      "Congratulations! Your portfolio covers your emergency fund. Now, stop gambling!\n"
     ]
    }
   ],
   "source": [
    "# Evaluate the possibility of creating an emergency fund with 3 conditions:\n",
    "if total_portfolio > emergency_fund_value:\n",
    "    print(\"Congratulations! Your portfolio covers your emergency fund. Now, stop gambling!\")\n",
    "elif total_portfolio == emergency_fund_value:\n",
    "    print(\"Congratulations! You met your financial goal. Keep up with the gambling habit!\")\n",
    "else:\n",
    "    print(f\"Stop messing around and bet it all! You are ${emergency_fund_value - total_portfolio} away from reaching your goal!\")\n"
   ]
  },
  {
   "cell_type": "markdown",
   "metadata": {},
   "source": [
    "## Part 2: Create a Financial Planner for Retirement"
   ]
  },
  {
   "cell_type": "markdown",
   "metadata": {},
   "source": [
    "### Create the Monte Carlo Simulation\n",
    "\n",
    "In this section, you’ll use the MCForecastTools library to create a Monte Carlo simulation for the member’s savings portfolio. To do this, complete the following steps:\n",
    "\n",
    "1. Make an API call via the Alpaca SDK to get 3 years of historical closing prices for a traditional 60/40 portfolio split: 60% stocks (SPY) and 40% bonds (AGG).\n",
    "\n",
    "2. Run a Monte Carlo simulation of 500 samples and 30 years for the 60/40 portfolio, and then plot the results.The following image shows the overlay line plot resulting from a simulation with these characteristics. However, because a random number generator is used to run each live Monte Carlo simulation, your image will differ slightly from this exact image:\n",
    "\n",
    "![A screenshot depicts the resulting plot.](Images/5-4-monte-carlo-line-plot.png)\n",
    "\n",
    "3. Plot the probability distribution of the Monte Carlo simulation. Plot the probability distribution of the Monte Carlo simulation. The following image shows the histogram plot resulting from a simulation with these characteristics. However, because a random number generator is used to run each live Monte Carlo simulation, your image will differ slightly from this exact image:\n",
    "\n",
    "![A screenshot depicts the histogram plot.](Images/5-4-monte-carlo-histogram.png)\n",
    "\n",
    "4. Generate the summary statistics for the Monte Carlo simulation.\n",
    "\n"
   ]
  },
  {
   "cell_type": "markdown",
   "metadata": {},
   "source": [
    "#### Step 1: Make an API call via the Alpaca SDK to get 3 years of historical closing prices for a traditional 60/40 portfolio split: 60% stocks (SPY) and 40% bonds (AGG)."
   ]
  },
  {
   "cell_type": "code",
   "execution_count": 28,
   "metadata": {},
   "outputs": [],
   "source": [
    "# Set start and end dates of 3 years back from your current date\n",
    "# Alternatively, you can use an end date of 2020-08-07 and work 3 years back from that date \n",
    "start_mc=pd.Timestamp(\"2017-08-07\", tz=\"America/New_York\").isoformat()\n",
    "end_mc=pd.Timestamp(\"2020-08-07\", tz=\"America/New_York\").isoformat()\n",
    "limit=1000\n",
    "\n"
   ]
  },
  {
   "cell_type": "code",
   "execution_count": 29,
   "metadata": {},
   "outputs": [
    {
     "data": {
      "text/html": "<div>\n<style scoped>\n    .dataframe tbody tr th:only-of-type {\n        vertical-align: middle;\n    }\n\n    .dataframe tbody tr th {\n        vertical-align: top;\n    }\n\n    .dataframe thead tr th {\n        text-align: left;\n    }\n\n    .dataframe thead tr:last-of-type th {\n        text-align: right;\n    }\n</style>\n<table border=\"1\" class=\"dataframe\">\n  <thead>\n    <tr>\n      <th></th>\n      <th colspan=\"5\" halign=\"left\">AGG</th>\n      <th colspan=\"5\" halign=\"left\">SPY</th>\n    </tr>\n    <tr>\n      <th></th>\n      <th>open</th>\n      <th>high</th>\n      <th>low</th>\n      <th>close</th>\n      <th>volume</th>\n      <th>open</th>\n      <th>high</th>\n      <th>low</th>\n      <th>close</th>\n      <th>volume</th>\n    </tr>\n    <tr>\n      <th>time</th>\n      <th></th>\n      <th></th>\n      <th></th>\n      <th></th>\n      <th></th>\n      <th></th>\n      <th></th>\n      <th></th>\n      <th></th>\n      <th></th>\n    </tr>\n  </thead>\n  <tbody>\n    <tr>\n      <th>2017-08-07 00:00:00-04:00</th>\n      <td>109.69</td>\n      <td>109.72</td>\n      <td>109.6066</td>\n      <td>109.6850</td>\n      <td>1425317</td>\n      <td>247.49</td>\n      <td>247.87</td>\n      <td>247.37</td>\n      <td>247.850</td>\n      <td>20901988</td>\n    </tr>\n    <tr>\n      <th>2017-08-08 00:00:00-04:00</th>\n      <td>109.67</td>\n      <td>109.69</td>\n      <td>109.5000</td>\n      <td>109.5810</td>\n      <td>1998999</td>\n      <td>247.51</td>\n      <td>248.91</td>\n      <td>246.83</td>\n      <td>247.291</td>\n      <td>44619069</td>\n    </tr>\n    <tr>\n      <th>2017-08-09 00:00:00-04:00</th>\n      <td>109.87</td>\n      <td>109.87</td>\n      <td>109.6600</td>\n      <td>109.6700</td>\n      <td>2069028</td>\n      <td>246.47</td>\n      <td>247.31</td>\n      <td>246.06</td>\n      <td>247.230</td>\n      <td>48543032</td>\n    </tr>\n    <tr>\n      <th>2017-08-10 00:00:00-04:00</th>\n      <td>109.70</td>\n      <td>109.85</td>\n      <td>109.6700</td>\n      <td>109.8053</td>\n      <td>1691677</td>\n      <td>246.28</td>\n      <td>246.44</td>\n      <td>243.70</td>\n      <td>243.790</td>\n      <td>87857827</td>\n    </tr>\n    <tr>\n      <th>2017-08-11 00:00:00-04:00</th>\n      <td>109.75</td>\n      <td>109.94</td>\n      <td>109.6800</td>\n      <td>109.8850</td>\n      <td>1613467</td>\n      <td>244.02</td>\n      <td>244.80</td>\n      <td>243.75</td>\n      <td>244.110</td>\n      <td>56404847</td>\n    </tr>\n  </tbody>\n</table>\n</div>",
      "text/plain": "                              AGG                                       \\\n                             open    high       low     close   volume   \ntime                                                                     \n2017-08-07 00:00:00-04:00  109.69  109.72  109.6066  109.6850  1425317   \n2017-08-08 00:00:00-04:00  109.67  109.69  109.5000  109.5810  1998999   \n2017-08-09 00:00:00-04:00  109.87  109.87  109.6600  109.6700  2069028   \n2017-08-10 00:00:00-04:00  109.70  109.85  109.6700  109.8053  1691677   \n2017-08-11 00:00:00-04:00  109.75  109.94  109.6800  109.8850  1613467   \n\n                              SPY                                     \n                             open    high     low    close    volume  \ntime                                                                  \n2017-08-07 00:00:00-04:00  247.49  247.87  247.37  247.850  20901988  \n2017-08-08 00:00:00-04:00  247.51  248.91  246.83  247.291  44619069  \n2017-08-09 00:00:00-04:00  246.47  247.31  246.06  247.230  48543032  \n2017-08-10 00:00:00-04:00  246.28  246.44  243.70  243.790  87857827  \n2017-08-11 00:00:00-04:00  244.02  244.80  243.75  244.110  56404847  "
     },
     "metadata": {},
     "output_type": "display_data"
    },
    {
     "data": {
      "text/html": "<div>\n<style scoped>\n    .dataframe tbody tr th:only-of-type {\n        vertical-align: middle;\n    }\n\n    .dataframe tbody tr th {\n        vertical-align: top;\n    }\n\n    .dataframe thead tr th {\n        text-align: left;\n    }\n\n    .dataframe thead tr:last-of-type th {\n        text-align: right;\n    }\n</style>\n<table border=\"1\" class=\"dataframe\">\n  <thead>\n    <tr>\n      <th></th>\n      <th colspan=\"5\" halign=\"left\">AGG</th>\n      <th colspan=\"5\" halign=\"left\">SPY</th>\n    </tr>\n    <tr>\n      <th></th>\n      <th>open</th>\n      <th>high</th>\n      <th>low</th>\n      <th>close</th>\n      <th>volume</th>\n      <th>open</th>\n      <th>high</th>\n      <th>low</th>\n      <th>close</th>\n      <th>volume</th>\n    </tr>\n    <tr>\n      <th>time</th>\n      <th></th>\n      <th></th>\n      <th></th>\n      <th></th>\n      <th></th>\n      <th></th>\n      <th></th>\n      <th></th>\n      <th></th>\n      <th></th>\n    </tr>\n  </thead>\n  <tbody>\n    <tr>\n      <th>2020-08-03 00:00:00-04:00</th>\n      <td>119.37</td>\n      <td>119.40</td>\n      <td>119.1903</td>\n      <td>119.400</td>\n      <td>24615464</td>\n      <td>328.3200</td>\n      <td>329.62</td>\n      <td>327.73</td>\n      <td>328.76</td>\n      <td>89861354</td>\n    </tr>\n    <tr>\n      <th>2020-08-04 00:00:00-04:00</th>\n      <td>119.42</td>\n      <td>119.63</td>\n      <td>119.4200</td>\n      <td>119.630</td>\n      <td>21512268</td>\n      <td>327.8600</td>\n      <td>330.06</td>\n      <td>327.86</td>\n      <td>330.03</td>\n      <td>73684427</td>\n    </tr>\n    <tr>\n      <th>2020-08-05 00:00:00-04:00</th>\n      <td>119.39</td>\n      <td>119.49</td>\n      <td>119.3100</td>\n      <td>119.400</td>\n      <td>34239733</td>\n      <td>331.4700</td>\n      <td>332.39</td>\n      <td>331.18</td>\n      <td>332.06</td>\n      <td>72941562</td>\n    </tr>\n    <tr>\n      <th>2020-08-06 00:00:00-04:00</th>\n      <td>119.62</td>\n      <td>119.73</td>\n      <td>119.5300</td>\n      <td>119.580</td>\n      <td>9021388</td>\n      <td>331.4799</td>\n      <td>334.46</td>\n      <td>331.13</td>\n      <td>334.31</td>\n      <td>76988181</td>\n    </tr>\n    <tr>\n      <th>2020-08-07 00:00:00-04:00</th>\n      <td>119.66</td>\n      <td>119.73</td>\n      <td>119.3950</td>\n      <td>119.445</td>\n      <td>8830420</td>\n      <td>333.2800</td>\n      <td>334.88</td>\n      <td>332.30</td>\n      <td>334.55</td>\n      <td>98710236</td>\n    </tr>\n  </tbody>\n</table>\n</div>",
      "text/plain": "                              AGG                                       \\\n                             open    high       low    close    volume   \ntime                                                                     \n2020-08-03 00:00:00-04:00  119.37  119.40  119.1903  119.400  24615464   \n2020-08-04 00:00:00-04:00  119.42  119.63  119.4200  119.630  21512268   \n2020-08-05 00:00:00-04:00  119.39  119.49  119.3100  119.400  34239733   \n2020-08-06 00:00:00-04:00  119.62  119.73  119.5300  119.580   9021388   \n2020-08-07 00:00:00-04:00  119.66  119.73  119.3950  119.445   8830420   \n\n                                SPY                                    \n                               open    high     low   close    volume  \ntime                                                                   \n2020-08-03 00:00:00-04:00  328.3200  329.62  327.73  328.76  89861354  \n2020-08-04 00:00:00-04:00  327.8600  330.06  327.86  330.03  73684427  \n2020-08-05 00:00:00-04:00  331.4700  332.39  331.18  332.06  72941562  \n2020-08-06 00:00:00-04:00  331.4799  334.46  331.13  334.31  76988181  \n2020-08-07 00:00:00-04:00  333.2800  334.88  332.30  334.55  98710236  "
     },
     "metadata": {},
     "output_type": "display_data"
    }
   ],
   "source": [
    "# Use the Alpaca get_barset function to make the API call to get the 3 years worth of pricing data\n",
    "# The tickers and timeframe parameters should have been set in Part 1 of this activity \n",
    "# The start and end dates should be updated with the information set above\n",
    "# Remember to add the df property to the end of the call so the response is returned as a DataFrame\n",
    "portfolio_mc = alpaca.get_barset(\n",
    "    tickers,\n",
    "    timeframe,\n",
    "    start=start_mc,\n",
    "    end=end_mc,\n",
    "    limit=limit\n",
    ").df\n",
    "\n",
    "\n",
    "# Display both the first and last five rows of the DataFrame\n",
    "display(portfolio_mc.head())\n",
    "display(portfolio_mc.tail())\n"
   ]
  },
  {
   "cell_type": "markdown",
   "metadata": {},
   "source": [
    "#### Step 2: Run a Monte Carlo simulation of 500 samples and 30 years for the 60/40 portfolio, and then plot the results."
   ]
  },
  {
   "cell_type": "code",
   "execution_count": 30,
   "metadata": {},
   "outputs": [
    {
     "data": {
      "text/html": "<div>\n<style scoped>\n    .dataframe tbody tr th:only-of-type {\n        vertical-align: middle;\n    }\n\n    .dataframe tbody tr th {\n        vertical-align: top;\n    }\n\n    .dataframe thead tr th {\n        text-align: left;\n    }\n\n    .dataframe thead tr:last-of-type th {\n        text-align: right;\n    }\n</style>\n<table border=\"1\" class=\"dataframe\">\n  <thead>\n    <tr>\n      <th></th>\n      <th colspan=\"6\" halign=\"left\">AGG</th>\n      <th colspan=\"6\" halign=\"left\">SPY</th>\n    </tr>\n    <tr>\n      <th></th>\n      <th>open</th>\n      <th>high</th>\n      <th>low</th>\n      <th>close</th>\n      <th>volume</th>\n      <th>daily_return</th>\n      <th>open</th>\n      <th>high</th>\n      <th>low</th>\n      <th>close</th>\n      <th>volume</th>\n      <th>daily_return</th>\n    </tr>\n    <tr>\n      <th>time</th>\n      <th></th>\n      <th></th>\n      <th></th>\n      <th></th>\n      <th></th>\n      <th></th>\n      <th></th>\n      <th></th>\n      <th></th>\n      <th></th>\n      <th></th>\n      <th></th>\n    </tr>\n  </thead>\n  <tbody>\n    <tr>\n      <th>2017-08-07 00:00:00-04:00</th>\n      <td>109.69</td>\n      <td>109.72</td>\n      <td>109.6066</td>\n      <td>109.6850</td>\n      <td>1425317</td>\n      <td>NaN</td>\n      <td>247.49</td>\n      <td>247.87</td>\n      <td>247.37</td>\n      <td>247.850</td>\n      <td>20901988</td>\n      <td>NaN</td>\n    </tr>\n    <tr>\n      <th>2017-08-08 00:00:00-04:00</th>\n      <td>109.67</td>\n      <td>109.69</td>\n      <td>109.5000</td>\n      <td>109.5810</td>\n      <td>1998999</td>\n      <td>-0.000948</td>\n      <td>247.51</td>\n      <td>248.91</td>\n      <td>246.83</td>\n      <td>247.291</td>\n      <td>44619069</td>\n      <td>-0.002255</td>\n    </tr>\n    <tr>\n      <th>2017-08-09 00:00:00-04:00</th>\n      <td>109.87</td>\n      <td>109.87</td>\n      <td>109.6600</td>\n      <td>109.6700</td>\n      <td>2069028</td>\n      <td>0.000812</td>\n      <td>246.47</td>\n      <td>247.31</td>\n      <td>246.06</td>\n      <td>247.230</td>\n      <td>48543032</td>\n      <td>-0.000247</td>\n    </tr>\n    <tr>\n      <th>2017-08-10 00:00:00-04:00</th>\n      <td>109.70</td>\n      <td>109.85</td>\n      <td>109.6700</td>\n      <td>109.8053</td>\n      <td>1691677</td>\n      <td>0.001234</td>\n      <td>246.28</td>\n      <td>246.44</td>\n      <td>243.70</td>\n      <td>243.790</td>\n      <td>87857827</td>\n      <td>-0.013914</td>\n    </tr>\n    <tr>\n      <th>2017-08-11 00:00:00-04:00</th>\n      <td>109.75</td>\n      <td>109.94</td>\n      <td>109.6800</td>\n      <td>109.8850</td>\n      <td>1613467</td>\n      <td>0.000726</td>\n      <td>244.02</td>\n      <td>244.80</td>\n      <td>243.75</td>\n      <td>244.110</td>\n      <td>56404847</td>\n      <td>0.001313</td>\n    </tr>\n  </tbody>\n</table>\n</div>",
      "text/plain": "                              AGG                                       \\\n                             open    high       low     close   volume   \ntime                                                                     \n2017-08-07 00:00:00-04:00  109.69  109.72  109.6066  109.6850  1425317   \n2017-08-08 00:00:00-04:00  109.67  109.69  109.5000  109.5810  1998999   \n2017-08-09 00:00:00-04:00  109.87  109.87  109.6600  109.6700  2069028   \n2017-08-10 00:00:00-04:00  109.70  109.85  109.6700  109.8053  1691677   \n2017-08-11 00:00:00-04:00  109.75  109.94  109.6800  109.8850  1613467   \n\n                                           SPY                           \\\n                          daily_return    open    high     low    close   \ntime                                                                      \n2017-08-07 00:00:00-04:00          NaN  247.49  247.87  247.37  247.850   \n2017-08-08 00:00:00-04:00    -0.000948  247.51  248.91  246.83  247.291   \n2017-08-09 00:00:00-04:00     0.000812  246.47  247.31  246.06  247.230   \n2017-08-10 00:00:00-04:00     0.001234  246.28  246.44  243.70  243.790   \n2017-08-11 00:00:00-04:00     0.000726  244.02  244.80  243.75  244.110   \n\n                                                  \n                             volume daily_return  \ntime                                              \n2017-08-07 00:00:00-04:00  20901988          NaN  \n2017-08-08 00:00:00-04:00  44619069    -0.002255  \n2017-08-09 00:00:00-04:00  48543032    -0.000247  \n2017-08-10 00:00:00-04:00  87857827    -0.013914  \n2017-08-11 00:00:00-04:00  56404847     0.001313  "
     },
     "execution_count": 30,
     "metadata": {},
     "output_type": "execute_result"
    }
   ],
   "source": [
    "# Configure the Monte Carlo simulation to forecast 30 years cumulative returns\n",
    "# The weights should be split 40% to AGG and 60% to SPY.\n",
    "# Run 500 samples.\n",
    "MC_portfolio = MCSimulation(\n",
    "    portfolio_data=portfolio_mc,\n",
    "    weights=[.6, .4],\n",
    "    num_simulation=500,\n",
    "    num_trading_days=252*30\n",
    ")\n",
    "\n",
    "# Review the simulation input data\n",
    "MC_portfolio.portfolio_data.head()\n"
   ]
  },
  {
   "cell_type": "code",
   "execution_count": 31,
   "metadata": {},
   "outputs": [
    {
     "name": "stdout",
     "output_type": "stream",
     "text": [
      "Running Monte Carlo simulation number 0.\n",
      "Running Monte Carlo simulation number 10.\n",
      "Running Monte Carlo simulation number 20.\n",
      "Running Monte Carlo simulation number 30.\n",
      "Running Monte Carlo simulation number 40.\n",
      "Running Monte Carlo simulation number 50.\n",
      "Running Monte Carlo simulation number 60.\n",
      "Running Monte Carlo simulation number 70.\n",
      "Running Monte Carlo simulation number 80.\n",
      "Running Monte Carlo simulation number 90.\n",
      "Running Monte Carlo simulation number 100.\n",
      "Running Monte Carlo simulation number 110.\n",
      "Running Monte Carlo simulation number 120.\n",
      "Running Monte Carlo simulation number 130.\n",
      "Running Monte Carlo simulation number 140.\n",
      "Running Monte Carlo simulation number 150.\n",
      "Running Monte Carlo simulation number 160.\n",
      "Running Monte Carlo simulation number 170.\n",
      "Running Monte Carlo simulation number 180.\n",
      "Running Monte Carlo simulation number 190.\n",
      "Running Monte Carlo simulation number 200.\n",
      "Running Monte Carlo simulation number 210.\n",
      "Running Monte Carlo simulation number 220.\n",
      "Running Monte Carlo simulation number 230.\n",
      "Running Monte Carlo simulation number 240.\n",
      "Running Monte Carlo simulation number 250.\n",
      "Running Monte Carlo simulation number 260.\n",
      "Running Monte Carlo simulation number 270.\n",
      "Running Monte Carlo simulation number 280.\n",
      "Running Monte Carlo simulation number 290.\n",
      "Running Monte Carlo simulation number 300.\n",
      "Running Monte Carlo simulation number 310.\n",
      "Running Monte Carlo simulation number 320.\n",
      "Running Monte Carlo simulation number 330.\n",
      "Running Monte Carlo simulation number 340.\n",
      "Running Monte Carlo simulation number 350.\n",
      "Running Monte Carlo simulation number 360.\n",
      "Running Monte Carlo simulation number 370.\n",
      "Running Monte Carlo simulation number 380.\n",
      "Running Monte Carlo simulation number 390.\n",
      "Running Monte Carlo simulation number 400.\n",
      "Running Monte Carlo simulation number 410.\n",
      "Running Monte Carlo simulation number 420.\n",
      "Running Monte Carlo simulation number 430.\n",
      "Running Monte Carlo simulation number 440.\n",
      "Running Monte Carlo simulation number 450.\n",
      "Running Monte Carlo simulation number 460.\n",
      "Running Monte Carlo simulation number 470.\n",
      "Running Monte Carlo simulation number 480.\n",
      "Running Monte Carlo simulation number 490.\n"
     ]
    },
    {
     "data": {
      "text/html": "<div>\n<style scoped>\n    .dataframe tbody tr th:only-of-type {\n        vertical-align: middle;\n    }\n\n    .dataframe tbody tr th {\n        vertical-align: top;\n    }\n\n    .dataframe thead th {\n        text-align: right;\n    }\n</style>\n<table border=\"1\" class=\"dataframe\">\n  <thead>\n    <tr style=\"text-align: right;\">\n      <th></th>\n      <th>0</th>\n      <th>1</th>\n      <th>2</th>\n      <th>3</th>\n      <th>4</th>\n      <th>5</th>\n      <th>6</th>\n      <th>7</th>\n      <th>8</th>\n      <th>9</th>\n      <th>...</th>\n      <th>490</th>\n      <th>491</th>\n      <th>492</th>\n      <th>493</th>\n      <th>494</th>\n      <th>495</th>\n      <th>496</th>\n      <th>497</th>\n      <th>498</th>\n      <th>499</th>\n    </tr>\n  </thead>\n  <tbody>\n    <tr>\n      <th>0</th>\n      <td>1.000000</td>\n      <td>1.000000</td>\n      <td>1.000000</td>\n      <td>1.000000</td>\n      <td>1.000000</td>\n      <td>1.000000</td>\n      <td>1.000000</td>\n      <td>1.000000</td>\n      <td>1.000000</td>\n      <td>1.000000</td>\n      <td>...</td>\n      <td>1.000000</td>\n      <td>1.000000</td>\n      <td>1.000000</td>\n      <td>1.000000</td>\n      <td>1.000000</td>\n      <td>1.000000</td>\n      <td>1.000000</td>\n      <td>1.000000</td>\n      <td>1.000000</td>\n      <td>1.000000</td>\n    </tr>\n    <tr>\n      <th>1</th>\n      <td>1.006233</td>\n      <td>0.995498</td>\n      <td>0.991341</td>\n      <td>1.005192</td>\n      <td>1.003950</td>\n      <td>0.990861</td>\n      <td>1.008864</td>\n      <td>0.996609</td>\n      <td>0.998526</td>\n      <td>0.994427</td>\n      <td>...</td>\n      <td>1.001405</td>\n      <td>1.000652</td>\n      <td>0.993726</td>\n      <td>0.997422</td>\n      <td>1.004402</td>\n      <td>1.004986</td>\n      <td>1.003606</td>\n      <td>0.997496</td>\n      <td>0.999568</td>\n      <td>1.003395</td>\n    </tr>\n    <tr>\n      <th>2</th>\n      <td>1.009140</td>\n      <td>0.999871</td>\n      <td>0.995253</td>\n      <td>0.996561</td>\n      <td>0.984115</td>\n      <td>1.001194</td>\n      <td>1.010409</td>\n      <td>1.002447</td>\n      <td>0.992764</td>\n      <td>1.001878</td>\n      <td>...</td>\n      <td>0.999118</td>\n      <td>0.999278</td>\n      <td>0.983499</td>\n      <td>1.000716</td>\n      <td>1.016199</td>\n      <td>0.995598</td>\n      <td>1.000259</td>\n      <td>0.996105</td>\n      <td>0.996358</td>\n      <td>0.996701</td>\n    </tr>\n    <tr>\n      <th>3</th>\n      <td>1.003723</td>\n      <td>0.996372</td>\n      <td>0.986581</td>\n      <td>1.009348</td>\n      <td>0.986441</td>\n      <td>1.004751</td>\n      <td>1.011063</td>\n      <td>1.004145</td>\n      <td>0.991522</td>\n      <td>1.005433</td>\n      <td>...</td>\n      <td>0.997984</td>\n      <td>1.001824</td>\n      <td>0.983885</td>\n      <td>0.999735</td>\n      <td>1.013002</td>\n      <td>1.005087</td>\n      <td>0.992623</td>\n      <td>1.000152</td>\n      <td>1.002756</td>\n      <td>0.993581</td>\n    </tr>\n    <tr>\n      <th>4</th>\n      <td>1.003479</td>\n      <td>0.997430</td>\n      <td>0.990557</td>\n      <td>0.997137</td>\n      <td>0.988754</td>\n      <td>1.003271</td>\n      <td>1.005207</td>\n      <td>0.998282</td>\n      <td>0.991549</td>\n      <td>1.011875</td>\n      <td>...</td>\n      <td>0.994926</td>\n      <td>0.996212</td>\n      <td>0.989373</td>\n      <td>1.003088</td>\n      <td>1.011770</td>\n      <td>1.011120</td>\n      <td>0.993885</td>\n      <td>0.999274</td>\n      <td>0.992280</td>\n      <td>0.985436</td>\n    </tr>\n    <tr>\n      <th>...</th>\n      <td>...</td>\n      <td>...</td>\n      <td>...</td>\n      <td>...</td>\n      <td>...</td>\n      <td>...</td>\n      <td>...</td>\n      <td>...</td>\n      <td>...</td>\n      <td>...</td>\n      <td>...</td>\n      <td>...</td>\n      <td>...</td>\n      <td>...</td>\n      <td>...</td>\n      <td>...</td>\n      <td>...</td>\n      <td>...</td>\n      <td>...</td>\n      <td>...</td>\n      <td>...</td>\n    </tr>\n    <tr>\n      <th>7556</th>\n      <td>7.778098</td>\n      <td>7.559420</td>\n      <td>5.286785</td>\n      <td>3.692702</td>\n      <td>5.911339</td>\n      <td>4.979522</td>\n      <td>13.581054</td>\n      <td>4.925579</td>\n      <td>6.268009</td>\n      <td>6.351912</td>\n      <td>...</td>\n      <td>8.626181</td>\n      <td>10.447591</td>\n      <td>17.546632</td>\n      <td>2.936003</td>\n      <td>6.774187</td>\n      <td>6.434077</td>\n      <td>10.903302</td>\n      <td>5.394528</td>\n      <td>14.431834</td>\n      <td>4.226904</td>\n    </tr>\n    <tr>\n      <th>7557</th>\n      <td>7.818333</td>\n      <td>7.549519</td>\n      <td>5.284642</td>\n      <td>3.720823</td>\n      <td>5.876149</td>\n      <td>4.952620</td>\n      <td>13.561923</td>\n      <td>4.941464</td>\n      <td>6.244053</td>\n      <td>6.307434</td>\n      <td>...</td>\n      <td>8.683262</td>\n      <td>10.427001</td>\n      <td>17.684801</td>\n      <td>2.953431</td>\n      <td>6.850354</td>\n      <td>6.404454</td>\n      <td>10.820550</td>\n      <td>5.425904</td>\n      <td>14.362805</td>\n      <td>4.208550</td>\n    </tr>\n    <tr>\n      <th>7558</th>\n      <td>7.843326</td>\n      <td>7.550993</td>\n      <td>5.287762</td>\n      <td>3.716006</td>\n      <td>5.894232</td>\n      <td>4.915735</td>\n      <td>13.657223</td>\n      <td>4.932577</td>\n      <td>6.263179</td>\n      <td>6.262931</td>\n      <td>...</td>\n      <td>8.624335</td>\n      <td>10.431244</td>\n      <td>17.616912</td>\n      <td>2.972214</td>\n      <td>6.842167</td>\n      <td>6.382659</td>\n      <td>10.896890</td>\n      <td>5.463949</td>\n      <td>14.280657</td>\n      <td>4.177572</td>\n    </tr>\n    <tr>\n      <th>7559</th>\n      <td>7.853970</td>\n      <td>7.528606</td>\n      <td>5.280351</td>\n      <td>3.727950</td>\n      <td>5.915332</td>\n      <td>4.923307</td>\n      <td>13.664611</td>\n      <td>4.912230</td>\n      <td>6.204634</td>\n      <td>6.348977</td>\n      <td>...</td>\n      <td>8.629887</td>\n      <td>10.297749</td>\n      <td>17.633633</td>\n      <td>3.024910</td>\n      <td>6.825635</td>\n      <td>6.369219</td>\n      <td>10.924541</td>\n      <td>5.437085</td>\n      <td>14.323132</td>\n      <td>4.130102</td>\n    </tr>\n    <tr>\n      <th>7560</th>\n      <td>7.814205</td>\n      <td>7.455230</td>\n      <td>5.278266</td>\n      <td>3.699682</td>\n      <td>5.872854</td>\n      <td>4.911189</td>\n      <td>13.671338</td>\n      <td>4.970957</td>\n      <td>6.262045</td>\n      <td>6.374001</td>\n      <td>...</td>\n      <td>8.638679</td>\n      <td>10.362285</td>\n      <td>17.383914</td>\n      <td>3.033754</td>\n      <td>6.813535</td>\n      <td>6.367079</td>\n      <td>11.038516</td>\n      <td>5.403289</td>\n      <td>14.411954</td>\n      <td>4.117874</td>\n    </tr>\n  </tbody>\n</table>\n<p>7561 rows × 500 columns</p>\n</div>",
      "text/plain": "           0         1         2         3         4         5          6    \\\n0     1.000000  1.000000  1.000000  1.000000  1.000000  1.000000   1.000000   \n1     1.006233  0.995498  0.991341  1.005192  1.003950  0.990861   1.008864   \n2     1.009140  0.999871  0.995253  0.996561  0.984115  1.001194   1.010409   \n3     1.003723  0.996372  0.986581  1.009348  0.986441  1.004751   1.011063   \n4     1.003479  0.997430  0.990557  0.997137  0.988754  1.003271   1.005207   \n...        ...       ...       ...       ...       ...       ...        ...   \n7556  7.778098  7.559420  5.286785  3.692702  5.911339  4.979522  13.581054   \n7557  7.818333  7.549519  5.284642  3.720823  5.876149  4.952620  13.561923   \n7558  7.843326  7.550993  5.287762  3.716006  5.894232  4.915735  13.657223   \n7559  7.853970  7.528606  5.280351  3.727950  5.915332  4.923307  13.664611   \n7560  7.814205  7.455230  5.278266  3.699682  5.872854  4.911189  13.671338   \n\n           7         8         9    ...       490        491        492  \\\n0     1.000000  1.000000  1.000000  ...  1.000000   1.000000   1.000000   \n1     0.996609  0.998526  0.994427  ...  1.001405   1.000652   0.993726   \n2     1.002447  0.992764  1.001878  ...  0.999118   0.999278   0.983499   \n3     1.004145  0.991522  1.005433  ...  0.997984   1.001824   0.983885   \n4     0.998282  0.991549  1.011875  ...  0.994926   0.996212   0.989373   \n...        ...       ...       ...  ...       ...        ...        ...   \n7556  4.925579  6.268009  6.351912  ...  8.626181  10.447591  17.546632   \n7557  4.941464  6.244053  6.307434  ...  8.683262  10.427001  17.684801   \n7558  4.932577  6.263179  6.262931  ...  8.624335  10.431244  17.616912   \n7559  4.912230  6.204634  6.348977  ...  8.629887  10.297749  17.633633   \n7560  4.970957  6.262045  6.374001  ...  8.638679  10.362285  17.383914   \n\n           493       494       495        496       497        498       499  \n0     1.000000  1.000000  1.000000   1.000000  1.000000   1.000000  1.000000  \n1     0.997422  1.004402  1.004986   1.003606  0.997496   0.999568  1.003395  \n2     1.000716  1.016199  0.995598   1.000259  0.996105   0.996358  0.996701  \n3     0.999735  1.013002  1.005087   0.992623  1.000152   1.002756  0.993581  \n4     1.003088  1.011770  1.011120   0.993885  0.999274   0.992280  0.985436  \n...        ...       ...       ...        ...       ...        ...       ...  \n7556  2.936003  6.774187  6.434077  10.903302  5.394528  14.431834  4.226904  \n7557  2.953431  6.850354  6.404454  10.820550  5.425904  14.362805  4.208550  \n7558  2.972214  6.842167  6.382659  10.896890  5.463949  14.280657  4.177572  \n7559  3.024910  6.825635  6.369219  10.924541  5.437085  14.323132  4.130102  \n7560  3.033754  6.813535  6.367079  11.038516  5.403289  14.411954  4.117874  \n\n[7561 rows x 500 columns]"
     },
     "execution_count": 31,
     "metadata": {},
     "output_type": "execute_result"
    }
   ],
   "source": [
    "# Run the Monte Carlo simulation to forecast 30 years cumulative returns\n",
    "MC_portfolio.calc_cumulative_return()\n"
   ]
  },
  {
   "cell_type": "code",
   "execution_count": 32,
   "metadata": {},
   "outputs": [
    {
     "data": {
      "image/png": "[encoded data removed]",
      "text/plain": "<Figure size 432x288 with 1 Axes>"
     },
     "metadata": {
      "needs_background": "light"
     },
     "output_type": "display_data"
    }
   ],
   "source": [
    "# Visualize the 30-year Monte Carlo simulation by creating an\n",
    "# overlay line plot\n",
    "portfolio_mc_plot = MC_portfolio.plot_simulation()\n"
   ]
  },
  {
   "cell_type": "markdown",
   "metadata": {},
   "source": [
    "#### Step 3: Plot the probability distribution of the Monte Carlo simulation."
   ]
  },
  {
   "cell_type": "code",
   "execution_count": 33,
   "metadata": {},
   "outputs": [
    {
     "data": {
      "image/png": "[encoded data removed]",
      "text/plain": "<Figure size 432x288 with 1 Axes>"
     },
     "metadata": {
      "needs_background": "light"
     },
     "output_type": "display_data"
    }
   ],
   "source": [
    "# Visualize the probability distribution of the 30-year Monte Carlo simulation \n",
    "# by plotting a histogram\n",
    "portfolio_mc_dist = MC_portfolio.plot_distribution()\n"
   ]
  },
  {
   "cell_type": "markdown",
   "metadata": {},
   "source": [
    "#### Step 4: Generate the summary statistics for the Monte Carlo simulation."
   ]
  },
  {
   "cell_type": "code",
   "execution_count": 34,
   "metadata": {},
   "outputs": [
    {
     "data": {
      "text/plain": "count           500.000000\nmean              7.803726\nstd               4.564444\nmin               1.726322\n25%               4.921386\n50%               6.823881\n75%               9.270661\nmax              35.546055\n95% CI Lower      2.376492\n95% CI Upper     18.307857\nName: 7560, dtype: float64"
     },
     "execution_count": 34,
     "metadata": {},
     "output_type": "execute_result"
    }
   ],
   "source": [
    "# Generate summary statistics from the 30-year Monte Carlo simulation results\n",
    "# Save the results as a variable\n",
    "portfolio_mc_stats = MC_portfolio.summarize_cumulative_return()\n",
    "\n",
    "\n",
    "# Review the 30-year Monte Carlo summary statistics\n",
    "portfolio_mc_stats"
   ]
  },
  {
   "cell_type": "markdown",
   "metadata": {},
   "source": [
    "### Analyze the Retirement Portfolio Forecasts\n",
    "\n",
    "Using the current value of only the stock and bond portion of the member's portfolio and the summary statistics that you generated from the Monte Carlo simulation, answer the following question in your Jupyter notebook:\n",
    "\n",
    "-  What are the lower and upper bounds for the expected value of the portfolio with a 95% confidence interval?\n"
   ]
  },
  {
   "cell_type": "code",
   "execution_count": 35,
   "metadata": {},
   "outputs": [
    {
     "data": {
      "text/plain": "60689.5"
     },
     "execution_count": 35,
     "metadata": {},
     "output_type": "execute_result"
    }
   ],
   "source": [
    "# Print the current balance of the stock and bond portion of the members portfolio\n",
    "total_stocks_bonds\n"
   ]
  },
  {
   "cell_type": "code",
   "execution_count": 36,
   "metadata": {},
   "outputs": [
    {
     "data": {
      "text/plain": "144228.1167370818"
     },
     "metadata": {},
     "output_type": "display_data"
    },
    {
     "data": {
      "text/plain": "1111094.6777710007"
     },
     "metadata": {},
     "output_type": "display_data"
    }
   ],
   "source": [
    "# Use the lower and upper `95%` confidence intervals to calculate the range of the possible outcomes for the current stock/bond portfolio\n",
    "ci_lower_thirty_cumulative_return = portfolio_mc_stats[-2] * total_stocks_bonds\n",
    "ci_upper_thirty_cumulative_return = portfolio_mc_stats[-1] * total_stocks_bonds\n",
    "\n",
    "# Print the result of your calculations\n",
    "display(ci_lower_thirty_cumulative_return)\n",
    "display(ci_upper_thirty_cumulative_return)\n"
   ]
  },
  {
   "cell_type": "markdown",
   "metadata": {},
   "source": [
    "### Forecast Cumulative Returns in 10 Years\n",
    "\n",
    "The CTO of the credit union is impressed with your work on these planning tools but wonders if 30 years is a long time to wait until retirement. So, your next task is to adjust the retirement portfolio and run a new Monte Carlo simulation to find out if the changes will allow members to retire earlier.\n",
    "\n",
    "For this new Monte Carlo simulation, do the following: \n",
    "\n",
    "- Forecast the cumulative returns for 10 years from now. Because of the shortened investment horizon (30 years to 10 years), the portfolio needs to invest more heavily in the riskier asset&mdash;that is, stock&mdash;to help accumulate wealth for retirement. \n",
    "\n",
    "- Adjust the weights of the retirement portfolio so that the composition for the Monte Carlo simulation consists of 20% bonds and 80% stocks. \n",
    "\n",
    "- Run the simulation over 500 samples, and use the same data that the API call to Alpaca generated.\n",
    "\n",
    "- Based on the new Monte Carlo simulation, answer the following questions in your Jupyter notebook:\n",
    "\n",
    "    - Using the current value of only the stock and bond portion of the member's portfolio and the summary statistics that you generated from the new Monte Carlo simulation, what are the lower and upper bounds for the expected value of the portfolio (with the new weights) with a 95% confidence interval?\n",
    "\n",
    "    - Will weighting the portfolio more heavily toward stocks allow the credit union members to retire after only 10 years?\n"
   ]
  },
  {
   "cell_type": "code",
   "execution_count": 37,
   "metadata": {},
   "outputs": [
    {
     "data": {
      "text/html": "<div>\n<style scoped>\n    .dataframe tbody tr th:only-of-type {\n        vertical-align: middle;\n    }\n\n    .dataframe tbody tr th {\n        vertical-align: top;\n    }\n\n    .dataframe thead tr th {\n        text-align: left;\n    }\n\n    .dataframe thead tr:last-of-type th {\n        text-align: right;\n    }\n</style>\n<table border=\"1\" class=\"dataframe\">\n  <thead>\n    <tr>\n      <th></th>\n      <th colspan=\"6\" halign=\"left\">AGG</th>\n      <th colspan=\"6\" halign=\"left\">SPY</th>\n    </tr>\n    <tr>\n      <th></th>\n      <th>open</th>\n      <th>high</th>\n      <th>low</th>\n      <th>close</th>\n      <th>volume</th>\n      <th>daily_return</th>\n      <th>open</th>\n      <th>high</th>\n      <th>low</th>\n      <th>close</th>\n      <th>volume</th>\n      <th>daily_return</th>\n    </tr>\n    <tr>\n      <th>time</th>\n      <th></th>\n      <th></th>\n      <th></th>\n      <th></th>\n      <th></th>\n      <th></th>\n      <th></th>\n      <th></th>\n      <th></th>\n      <th></th>\n      <th></th>\n      <th></th>\n    </tr>\n  </thead>\n  <tbody>\n    <tr>\n      <th>2017-08-07 00:00:00-04:00</th>\n      <td>109.69</td>\n      <td>109.72</td>\n      <td>109.6066</td>\n      <td>109.6850</td>\n      <td>1425317</td>\n      <td>NaN</td>\n      <td>247.49</td>\n      <td>247.87</td>\n      <td>247.37</td>\n      <td>247.850</td>\n      <td>20901988</td>\n      <td>NaN</td>\n    </tr>\n    <tr>\n      <th>2017-08-08 00:00:00-04:00</th>\n      <td>109.67</td>\n      <td>109.69</td>\n      <td>109.5000</td>\n      <td>109.5810</td>\n      <td>1998999</td>\n      <td>-0.000948</td>\n      <td>247.51</td>\n      <td>248.91</td>\n      <td>246.83</td>\n      <td>247.291</td>\n      <td>44619069</td>\n      <td>-0.002255</td>\n    </tr>\n    <tr>\n      <th>2017-08-09 00:00:00-04:00</th>\n      <td>109.87</td>\n      <td>109.87</td>\n      <td>109.6600</td>\n      <td>109.6700</td>\n      <td>2069028</td>\n      <td>0.000812</td>\n      <td>246.47</td>\n      <td>247.31</td>\n      <td>246.06</td>\n      <td>247.230</td>\n      <td>48543032</td>\n      <td>-0.000247</td>\n    </tr>\n    <tr>\n      <th>2017-08-10 00:00:00-04:00</th>\n      <td>109.70</td>\n      <td>109.85</td>\n      <td>109.6700</td>\n      <td>109.8053</td>\n      <td>1691677</td>\n      <td>0.001234</td>\n      <td>246.28</td>\n      <td>246.44</td>\n      <td>243.70</td>\n      <td>243.790</td>\n      <td>87857827</td>\n      <td>-0.013914</td>\n    </tr>\n    <tr>\n      <th>2017-08-11 00:00:00-04:00</th>\n      <td>109.75</td>\n      <td>109.94</td>\n      <td>109.6800</td>\n      <td>109.8850</td>\n      <td>1613467</td>\n      <td>0.000726</td>\n      <td>244.02</td>\n      <td>244.80</td>\n      <td>243.75</td>\n      <td>244.110</td>\n      <td>56404847</td>\n      <td>0.001313</td>\n    </tr>\n  </tbody>\n</table>\n</div>",
      "text/plain": "                              AGG                                       \\\n                             open    high       low     close   volume   \ntime                                                                     \n2017-08-07 00:00:00-04:00  109.69  109.72  109.6066  109.6850  1425317   \n2017-08-08 00:00:00-04:00  109.67  109.69  109.5000  109.5810  1998999   \n2017-08-09 00:00:00-04:00  109.87  109.87  109.6600  109.6700  2069028   \n2017-08-10 00:00:00-04:00  109.70  109.85  109.6700  109.8053  1691677   \n2017-08-11 00:00:00-04:00  109.75  109.94  109.6800  109.8850  1613467   \n\n                                           SPY                           \\\n                          daily_return    open    high     low    close   \ntime                                                                      \n2017-08-07 00:00:00-04:00          NaN  247.49  247.87  247.37  247.850   \n2017-08-08 00:00:00-04:00    -0.000948  247.51  248.91  246.83  247.291   \n2017-08-09 00:00:00-04:00     0.000812  246.47  247.31  246.06  247.230   \n2017-08-10 00:00:00-04:00     0.001234  246.28  246.44  243.70  243.790   \n2017-08-11 00:00:00-04:00     0.000726  244.02  244.80  243.75  244.110   \n\n                                                  \n                             volume daily_return  \ntime                                              \n2017-08-07 00:00:00-04:00  20901988          NaN  \n2017-08-08 00:00:00-04:00  44619069    -0.002255  \n2017-08-09 00:00:00-04:00  48543032    -0.000247  \n2017-08-10 00:00:00-04:00  87857827    -0.013914  \n2017-08-11 00:00:00-04:00  56404847     0.001313  "
     },
     "execution_count": 37,
     "metadata": {},
     "output_type": "execute_result"
    }
   ],
   "source": [
    "# Configure a Monte Carlo simulation to forecast 10 years cumulative returns\n",
    "# The weights should be split 20% to AGG and 80% to SPY.\n",
    "# Run 500 samples.\n",
    "MC_portfolio_10 = MCSimulation(\n",
    "    portfolio_data=portfolio_mc,\n",
    "    weights=[.8, .2],\n",
    "    num_simulation=500,\n",
    "    num_trading_days=252*10\n",
    ")\n",
    "\n",
    "# Review the simulation input data\n",
    "MC_portfolio_10.portfolio_data.head()\n"
   ]
  },
  {
   "cell_type": "code",
   "execution_count": 38,
   "metadata": {},
   "outputs": [
    {
     "name": "stdout",
     "output_type": "stream",
     "text": [
      "Running Monte Carlo simulation number 0.\n",
      "Running Monte Carlo simulation number 10.\n",
      "Running Monte Carlo simulation number 20.\n",
      "Running Monte Carlo simulation number 30.\n",
      "Running Monte Carlo simulation number 40.\n",
      "Running Monte Carlo simulation number 50.\n",
      "Running Monte Carlo simulation number 60.\n",
      "Running Monte Carlo simulation number 70.\n",
      "Running Monte Carlo simulation number 80.\n",
      "Running Monte Carlo simulation number 90.\n",
      "Running Monte Carlo simulation number 100.\n",
      "Running Monte Carlo simulation number 110.\n",
      "Running Monte Carlo simulation number 120.\n",
      "Running Monte Carlo simulation number 130.\n",
      "Running Monte Carlo simulation number 140.\n",
      "Running Monte Carlo simulation number 150.\n",
      "Running Monte Carlo simulation number 160.\n",
      "Running Monte Carlo simulation number 170.\n",
      "Running Monte Carlo simulation number 180.\n",
      "Running Monte Carlo simulation number 190.\n",
      "Running Monte Carlo simulation number 200.\n",
      "Running Monte Carlo simulation number 210.\n",
      "Running Monte Carlo simulation number 220.\n",
      "Running Monte Carlo simulation number 230.\n",
      "Running Monte Carlo simulation number 240.\n",
      "Running Monte Carlo simulation number 250.\n",
      "Running Monte Carlo simulation number 260.\n",
      "Running Monte Carlo simulation number 270.\n",
      "Running Monte Carlo simulation number 280.\n",
      "Running Monte Carlo simulation number 290.\n",
      "Running Monte Carlo simulation number 300.\n",
      "Running Monte Carlo simulation number 310.\n",
      "Running Monte Carlo simulation number 320.\n",
      "Running Monte Carlo simulation number 330.\n",
      "Running Monte Carlo simulation number 340.\n",
      "Running Monte Carlo simulation number 350.\n",
      "Running Monte Carlo simulation number 360.\n",
      "Running Monte Carlo simulation number 370.\n",
      "Running Monte Carlo simulation number 380.\n",
      "Running Monte Carlo simulation number 390.\n",
      "Running Monte Carlo simulation number 400.\n",
      "Running Monte Carlo simulation number 410.\n",
      "Running Monte Carlo simulation number 420.\n",
      "Running Monte Carlo simulation number 430.\n",
      "Running Monte Carlo simulation number 440.\n",
      "Running Monte Carlo simulation number 450.\n",
      "Running Monte Carlo simulation number 460.\n",
      "Running Monte Carlo simulation number 470.\n",
      "Running Monte Carlo simulation number 480.\n",
      "Running Monte Carlo simulation number 490.\n"
     ]
    },
    {
     "data": {
      "text/html": "<div>\n<style scoped>\n    .dataframe tbody tr th:only-of-type {\n        vertical-align: middle;\n    }\n\n    .dataframe tbody tr th {\n        vertical-align: top;\n    }\n\n    .dataframe thead th {\n        text-align: right;\n    }\n</style>\n<table border=\"1\" class=\"dataframe\">\n  <thead>\n    <tr style=\"text-align: right;\">\n      <th></th>\n      <th>0</th>\n      <th>1</th>\n      <th>2</th>\n      <th>3</th>\n      <th>4</th>\n      <th>5</th>\n      <th>6</th>\n      <th>7</th>\n      <th>8</th>\n      <th>9</th>\n      <th>...</th>\n      <th>490</th>\n      <th>491</th>\n      <th>492</th>\n      <th>493</th>\n      <th>494</th>\n      <th>495</th>\n      <th>496</th>\n      <th>497</th>\n      <th>498</th>\n      <th>499</th>\n    </tr>\n  </thead>\n  <tbody>\n    <tr>\n      <th>0</th>\n      <td>1.000000</td>\n      <td>1.000000</td>\n      <td>1.000000</td>\n      <td>1.000000</td>\n      <td>1.000000</td>\n      <td>1.000000</td>\n      <td>1.000000</td>\n      <td>1.000000</td>\n      <td>1.000000</td>\n      <td>1.000000</td>\n      <td>...</td>\n      <td>1.000000</td>\n      <td>1.000000</td>\n      <td>1.000000</td>\n      <td>1.000000</td>\n      <td>1.000000</td>\n      <td>1.000000</td>\n      <td>1.000000</td>\n      <td>1.000000</td>\n      <td>1.000000</td>\n      <td>1.000000</td>\n    </tr>\n    <tr>\n      <th>1</th>\n      <td>0.998794</td>\n      <td>0.999710</td>\n      <td>1.002745</td>\n      <td>1.003370</td>\n      <td>1.004700</td>\n      <td>1.007496</td>\n      <td>0.997991</td>\n      <td>0.995490</td>\n      <td>0.998655</td>\n      <td>0.997023</td>\n      <td>...</td>\n      <td>1.002702</td>\n      <td>1.003757</td>\n      <td>1.000938</td>\n      <td>0.993969</td>\n      <td>1.001848</td>\n      <td>1.008172</td>\n      <td>1.001348</td>\n      <td>0.994362</td>\n      <td>0.993023</td>\n      <td>0.995656</td>\n    </tr>\n    <tr>\n      <th>2</th>\n      <td>0.998021</td>\n      <td>0.996252</td>\n      <td>1.000325</td>\n      <td>1.005545</td>\n      <td>1.005971</td>\n      <td>1.007208</td>\n      <td>1.003017</td>\n      <td>0.997861</td>\n      <td>0.993686</td>\n      <td>0.994971</td>\n      <td>...</td>\n      <td>1.002802</td>\n      <td>1.005851</td>\n      <td>0.997907</td>\n      <td>0.993291</td>\n      <td>0.995121</td>\n      <td>1.006696</td>\n      <td>1.004915</td>\n      <td>0.996552</td>\n      <td>0.994477</td>\n      <td>1.002047</td>\n    </tr>\n    <tr>\n      <th>3</th>\n      <td>1.001156</td>\n      <td>0.992927</td>\n      <td>1.002636</td>\n      <td>1.003852</td>\n      <td>0.997985</td>\n      <td>1.012072</td>\n      <td>1.006478</td>\n      <td>0.999608</td>\n      <td>0.989904</td>\n      <td>0.996764</td>\n      <td>...</td>\n      <td>1.014550</td>\n      <td>1.004404</td>\n      <td>1.005540</td>\n      <td>0.989361</td>\n      <td>0.989816</td>\n      <td>1.007177</td>\n      <td>1.002061</td>\n      <td>1.001518</td>\n      <td>0.989238</td>\n      <td>1.005854</td>\n    </tr>\n    <tr>\n      <th>4</th>\n      <td>1.004688</td>\n      <td>0.991655</td>\n      <td>1.013524</td>\n      <td>1.002483</td>\n      <td>0.995413</td>\n      <td>1.013318</td>\n      <td>1.001702</td>\n      <td>0.992785</td>\n      <td>0.989799</td>\n      <td>0.994768</td>\n      <td>...</td>\n      <td>1.014077</td>\n      <td>1.006587</td>\n      <td>1.015515</td>\n      <td>0.988996</td>\n      <td>0.987708</td>\n      <td>1.000846</td>\n      <td>1.002863</td>\n      <td>1.007540</td>\n      <td>0.992936</td>\n      <td>1.001278</td>\n    </tr>\n    <tr>\n      <th>...</th>\n      <td>...</td>\n      <td>...</td>\n      <td>...</td>\n      <td>...</td>\n      <td>...</td>\n      <td>...</td>\n      <td>...</td>\n      <td>...</td>\n      <td>...</td>\n      <td>...</td>\n      <td>...</td>\n      <td>...</td>\n      <td>...</td>\n      <td>...</td>\n      <td>...</td>\n      <td>...</td>\n      <td>...</td>\n      <td>...</td>\n      <td>...</td>\n      <td>...</td>\n      <td>...</td>\n    </tr>\n    <tr>\n      <th>2516</th>\n      <td>2.273469</td>\n      <td>1.142435</td>\n      <td>1.730928</td>\n      <td>2.380207</td>\n      <td>1.139921</td>\n      <td>1.443124</td>\n      <td>1.453941</td>\n      <td>1.645419</td>\n      <td>1.553555</td>\n      <td>1.610006</td>\n      <td>...</td>\n      <td>1.676357</td>\n      <td>1.398473</td>\n      <td>1.328827</td>\n      <td>1.647954</td>\n      <td>1.524740</td>\n      <td>2.770268</td>\n      <td>1.298920</td>\n      <td>2.005077</td>\n      <td>1.267464</td>\n      <td>1.801052</td>\n    </tr>\n    <tr>\n      <th>2517</th>\n      <td>2.273457</td>\n      <td>1.141282</td>\n      <td>1.742959</td>\n      <td>2.383844</td>\n      <td>1.145806</td>\n      <td>1.453539</td>\n      <td>1.455247</td>\n      <td>1.641571</td>\n      <td>1.561253</td>\n      <td>1.609165</td>\n      <td>...</td>\n      <td>1.670818</td>\n      <td>1.406354</td>\n      <td>1.332144</td>\n      <td>1.642152</td>\n      <td>1.527217</td>\n      <td>2.785175</td>\n      <td>1.291422</td>\n      <td>2.020612</td>\n      <td>1.265434</td>\n      <td>1.804980</td>\n    </tr>\n    <tr>\n      <th>2518</th>\n      <td>2.272556</td>\n      <td>1.148592</td>\n      <td>1.740670</td>\n      <td>2.391755</td>\n      <td>1.147062</td>\n      <td>1.453025</td>\n      <td>1.445273</td>\n      <td>1.635209</td>\n      <td>1.565402</td>\n      <td>1.615862</td>\n      <td>...</td>\n      <td>1.690823</td>\n      <td>1.402117</td>\n      <td>1.336335</td>\n      <td>1.644385</td>\n      <td>1.520514</td>\n      <td>2.789225</td>\n      <td>1.292602</td>\n      <td>2.028394</td>\n      <td>1.260418</td>\n      <td>1.810005</td>\n    </tr>\n    <tr>\n      <th>2519</th>\n      <td>2.271864</td>\n      <td>1.141432</td>\n      <td>1.732535</td>\n      <td>2.398044</td>\n      <td>1.145930</td>\n      <td>1.458795</td>\n      <td>1.450978</td>\n      <td>1.616834</td>\n      <td>1.571623</td>\n      <td>1.639162</td>\n      <td>...</td>\n      <td>1.693581</td>\n      <td>1.408203</td>\n      <td>1.333909</td>\n      <td>1.629828</td>\n      <td>1.517508</td>\n      <td>2.784458</td>\n      <td>1.305082</td>\n      <td>2.031787</td>\n      <td>1.250825</td>\n      <td>1.798878</td>\n    </tr>\n    <tr>\n      <th>2520</th>\n      <td>2.280890</td>\n      <td>1.136759</td>\n      <td>1.736327</td>\n      <td>2.395925</td>\n      <td>1.143913</td>\n      <td>1.465792</td>\n      <td>1.441697</td>\n      <td>1.607679</td>\n      <td>1.571796</td>\n      <td>1.643303</td>\n      <td>...</td>\n      <td>1.695860</td>\n      <td>1.409899</td>\n      <td>1.330531</td>\n      <td>1.631297</td>\n      <td>1.512548</td>\n      <td>2.794977</td>\n      <td>1.315386</td>\n      <td>2.032386</td>\n      <td>1.241940</td>\n      <td>1.803057</td>\n    </tr>\n  </tbody>\n</table>\n<p>2521 rows × 500 columns</p>\n</div>",
      "text/plain": "           0         1         2         3         4         5         6    \\\n0     1.000000  1.000000  1.000000  1.000000  1.000000  1.000000  1.000000   \n1     0.998794  0.999710  1.002745  1.003370  1.004700  1.007496  0.997991   \n2     0.998021  0.996252  1.000325  1.005545  1.005971  1.007208  1.003017   \n3     1.001156  0.992927  1.002636  1.003852  0.997985  1.012072  1.006478   \n4     1.004688  0.991655  1.013524  1.002483  0.995413  1.013318  1.001702   \n...        ...       ...       ...       ...       ...       ...       ...   \n2516  2.273469  1.142435  1.730928  2.380207  1.139921  1.443124  1.453941   \n2517  2.273457  1.141282  1.742959  2.383844  1.145806  1.453539  1.455247   \n2518  2.272556  1.148592  1.740670  2.391755  1.147062  1.453025  1.445273   \n2519  2.271864  1.141432  1.732535  2.398044  1.145930  1.458795  1.450978   \n2520  2.280890  1.136759  1.736327  2.395925  1.143913  1.465792  1.441697   \n\n           7         8         9    ...       490       491       492  \\\n0     1.000000  1.000000  1.000000  ...  1.000000  1.000000  1.000000   \n1     0.995490  0.998655  0.997023  ...  1.002702  1.003757  1.000938   \n2     0.997861  0.993686  0.994971  ...  1.002802  1.005851  0.997907   \n3     0.999608  0.989904  0.996764  ...  1.014550  1.004404  1.005540   \n4     0.992785  0.989799  0.994768  ...  1.014077  1.006587  1.015515   \n...        ...       ...       ...  ...       ...       ...       ...   \n2516  1.645419  1.553555  1.610006  ...  1.676357  1.398473  1.328827   \n2517  1.641571  1.561253  1.609165  ...  1.670818  1.406354  1.332144   \n2518  1.635209  1.565402  1.615862  ...  1.690823  1.402117  1.336335   \n2519  1.616834  1.571623  1.639162  ...  1.693581  1.408203  1.333909   \n2520  1.607679  1.571796  1.643303  ...  1.695860  1.409899  1.330531   \n\n           493       494       495       496       497       498       499  \n0     1.000000  1.000000  1.000000  1.000000  1.000000  1.000000  1.000000  \n1     0.993969  1.001848  1.008172  1.001348  0.994362  0.993023  0.995656  \n2     0.993291  0.995121  1.006696  1.004915  0.996552  0.994477  1.002047  \n3     0.989361  0.989816  1.007177  1.002061  1.001518  0.989238  1.005854  \n4     0.988996  0.987708  1.000846  1.002863  1.007540  0.992936  1.001278  \n...        ...       ...       ...       ...       ...       ...       ...  \n2516  1.647954  1.524740  2.770268  1.298920  2.005077  1.267464  1.801052  \n2517  1.642152  1.527217  2.785175  1.291422  2.020612  1.265434  1.804980  \n2518  1.644385  1.520514  2.789225  1.292602  2.028394  1.260418  1.810005  \n2519  1.629828  1.517508  2.784458  1.305082  2.031787  1.250825  1.798878  \n2520  1.631297  1.512548  2.794977  1.315386  2.032386  1.241940  1.803057  \n\n[2521 rows x 500 columns]"
     },
     "execution_count": 38,
     "metadata": {},
     "output_type": "execute_result"
    }
   ],
   "source": [
    "MC_portfolio_10.calc_cumulative_return()\n"
   ]
  },
  {
   "cell_type": "code",
   "execution_count": 39,
   "metadata": {},
   "outputs": [
    {
     "data": {
      "text/plain": "<AxesSubplot:title={'center':'500 Simulations of Cumulative Portfolio Return Trajectories Over the Next 2520 Trading Days.'}>"
     },
     "execution_count": 39,
     "metadata": {},
     "output_type": "execute_result"
    },
    {
     "data": {
      "image/png": "[encoded data removed]",
      "text/plain": "<Figure size 432x288 with 1 Axes>"
     },
     "metadata": {
      "needs_background": "light"
     },
     "output_type": "display_data"
    }
   ],
   "source": [
    "# Visualize the 10-year Monte Carlo simulation by creating an\n",
    "# overlay line plot\n",
    "MC_portfolio_10.plot_simulation()\n"
   ]
  },
  {
   "cell_type": "code",
   "execution_count": 40,
   "metadata": {},
   "outputs": [
    {
     "data": {
      "text/plain": "<AxesSubplot:title={'center':'Distribution of Final Cumuluative Returns Across All 500 Simulations'}, ylabel='Frequency'>"
     },
     "execution_count": 40,
     "metadata": {},
     "output_type": "execute_result"
    },
    {
     "data": {
      "image/png": "[encoded data removed]",
      "text/plain": "<Figure size 432x288 with 1 Axes>"
     },
     "metadata": {
      "needs_background": "light"
     },
     "output_type": "display_data"
    }
   ],
   "source": [
    "# Visualize the probability distribution of the 10-year Monte Carlo simulation \n",
    "# by plotting a histogram\n",
    "MC_portfolio_10.plot_distribution()\n"
   ]
  },
  {
   "cell_type": "code",
   "execution_count": 41,
   "metadata": {},
   "outputs": [
    {
     "data": {
      "text/plain": "count           500.000000\nmean              1.636263\nstd               0.339433\nmin               0.960252\n25%               1.409140\n50%               1.585259\n75%               1.798820\nmax               3.212258\n95% CI Lower      1.113285\n95% CI Upper      2.440900\nName: 2520, dtype: float64"
     },
     "execution_count": 41,
     "metadata": {},
     "output_type": "execute_result"
    }
   ],
   "source": [
    "# Generate summary statistics from the 10-year Monte Carlo simulation results\n",
    "# Save the results as a variable\n",
    "portfolio_mc_10_stats = MC_portfolio_10.summarize_cumulative_return()\n",
    "\n",
    "\n",
    "# Review the 10-year Monte Carlo summary statistics\n",
    "portfolio_mc_10_stats"
   ]
  },
  {
   "cell_type": "markdown",
   "metadata": {},
   "source": [
    "### Answer the following questions:"
   ]
  },
  {
   "cell_type": "markdown",
   "metadata": {},
   "source": [
    "#### Question: Using the current value of only the stock and bond portion of the member's portfolio and the summary statistics that you generated from the new Monte Carlo simulation, what are the lower and upper bounds for the expected value of the portfolio (with the new weights) with a 95% confidence interval?"
   ]
  },
  {
   "cell_type": "code",
   "execution_count": 42,
   "metadata": {},
   "outputs": [
    {
     "data": {
      "text/plain": "60689.5"
     },
     "execution_count": 42,
     "metadata": {},
     "output_type": "execute_result"
    }
   ],
   "source": [
    "# Print the current balance of the stock and bond portion of the members portfolio\n",
    "total_stocks_bonds\n"
   ]
  },
  {
   "cell_type": "code",
   "execution_count": 43,
   "metadata": {},
   "outputs": [
    {
     "data": {
      "text/plain": "67564.71867338149"
     },
     "metadata": {},
     "output_type": "display_data"
    },
    {
     "data": {
      "text/plain": "148137.01402682075"
     },
     "metadata": {},
     "output_type": "display_data"
    }
   ],
   "source": [
    "# Use the lower and upper `95%` confidence intervals to calculate the range of the possible outcomes for the current stock/bond portfolio\n",
    "ci_lower_ten_cumulative_return = portfolio_mc_10_stats[-2] * total_stocks_bonds\n",
    "ci_upper_ten_cumulative_return = portfolio_mc_10_stats[-1] * total_stocks_bonds\n",
    "\n",
    "# Print the result of your calculations\n",
    "display(ci_lower_ten_cumulative_return)\n",
    "display(ci_upper_ten_cumulative_return)\n"
   ]
  },
  {
   "cell_type": "markdown",
   "metadata": {},
   "source": [
    "#### Question: Will weighting the portfolio more heavily to stocks allow the credit union members to retire after only 10 years?"
   ]
  },
  {
   "cell_type": "raw",
   "metadata": {},
   "source": [
    "**Answer** # \n",
    "\n",
    "Retiring in 10 years will depend on how much money the member needs at retirement.\n",
    "\n",
    "The retirement portfolio may range between $66K and $140K (with 95% confidence) by putting a greater weight towards stocks and a shorter time horizon of 10 years. \n",
    "This range more than covers the emergency fund, but seems insuficient for retirement.\n",
    "\n",
    "On the other hand, if the member needs additional cash upon retirement, then investing over 30 years would be more appropriate.\n",
    "The reason is because, according to the Monte Carlo simulation, the portfolio may range between $146K and $1.1M at retirement (with 95% confidence)."
   ]
  },
  {
   "cell_type": "code",
   "execution_count": null,
   "metadata": {},
   "outputs": [],
   "source": []
  }
 ],
 "metadata": {
  "kernelspec": {
   "display_name": "Python 3.7.10 64-bit ('dev': conda)",
   "name": "python3710jvsc74a57bd0756051ce873b5faf84517576cfef92cd98c6606ca8f6797229bf807d95e20b27"
  },
  "language_info": {
   "name": "python",
   "version": ""
  }
 },
 "nbformat": 4,
 "nbformat_minor": 4
}